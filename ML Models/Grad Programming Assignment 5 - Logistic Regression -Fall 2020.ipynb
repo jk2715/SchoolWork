{
 "cells": [
  {
   "cell_type": "markdown",
   "metadata": {},
   "source": [
    "# Programming Assignment 5 - Logistic Regression \n",
    "\n",
    "In the assignment, you will use gradient ascent to find the weights for the logistic regression problem.   \n",
    "\n",
    "As an example, we will use the widely-used breast cancer data set.  This data set is described here:\n",
    "\n",
    "https://archive.ics.uci.edu/ml/machine-learning-databases/breast-cancer-wisconsin\n",
    "\n",
    "Each sample is a collection of features that were manually recorded by a physician upon inspecting a sample of cells from fine needle aspiration.  The goal is to detect if the cells are benign or malignant."
   ]
  },
  {
   "cell_type": "markdown",
   "metadata": {},
   "source": [
    "## Step 1:  Getting, preprocessing, and understanding the dataset"
   ]
  },
  {
   "cell_type": "markdown",
   "metadata": {},
   "source": [
    "### Importing the standard libraries"
   ]
  },
  {
   "cell_type": "code",
   "execution_count": 134,
   "metadata": {},
   "outputs": [],
   "source": [
    "# Importing important libraries\n",
    "from sklearn.datasets import load_breast_cancer # taking included data set from Sklearn http://scikit-learn.org/stable/modules/generated/sklearn.datasets.load_breast_cancer.html\n",
    "from sklearn import preprocessing # preprossing is what we do with the data before we run the learning algorithm\n",
    "from sklearn.model_selection import train_test_split \n",
    "import numpy as np\n",
    "import math\n",
    "\n",
    "import matplotlib.pyplot as plt\n",
    "%matplotlib inline"
   ]
  },
  {
   "cell_type": "markdown",
   "metadata": {},
   "source": [
    "### Importing the dataset"
   ]
  },
  {
   "cell_type": "code",
   "execution_count": 135,
   "metadata": {},
   "outputs": [],
   "source": [
    "# Loading the dataset\n",
    "cancer = load_breast_cancer()\n",
    "y = cancer.target\n",
    "X = cancer.data"
   ]
  },
  {
   "cell_type": "code",
   "execution_count": 136,
   "metadata": {},
   "outputs": [
    {
     "name": "stdout",
     "output_type": "stream",
     "text": [
      "(569, 30)\n",
      "(569,)\n"
     ]
    }
   ],
   "source": [
    "# Printing the shape of data (X) and target (Y) values \n",
    "print(X.shape)\n",
    "print(y.shape)"
   ]
  },
  {
   "cell_type": "markdown",
   "metadata": {},
   "source": [
    "### Data Pre-Processing\n",
    "#### Splitting the data into train and test before scaling the dataset\n"
   ]
  },
  {
   "cell_type": "code",
   "execution_count": 137,
   "metadata": {},
   "outputs": [],
   "source": [
    "# train_test_split to split the data \n",
    "X_train, X_test, y_train, y_test = train_test_split(X, y,random_state=42)"
   ]
  },
  {
   "cell_type": "markdown",
   "metadata": {},
   "source": [
    "#### Scale the data since we will be using gradient ascent"
   ]
  },
  {
   "cell_type": "code",
   "execution_count": 138,
   "metadata": {},
   "outputs": [],
   "source": [
    "scaler = preprocessing.StandardScaler().fit(X_train)\n",
    "X_train = scaler.transform(X_train)\n",
    "X_test = scaler.transform(X_test)"
   ]
  },
  {
   "cell_type": "code",
   "execution_count": 139,
   "metadata": {},
   "outputs": [
    {
     "name": "stdout",
     "output_type": "stream",
     "text": [
      "(426, 30)\n",
      "(426,)\n"
     ]
    }
   ],
   "source": [
    "# TODO - Print the shape of x_train and y_train \n",
    " # When you print the shape of x_train, it should print (426, 30)\n",
    " # When you print the shape of y_train, it should print (426,)\n",
    "print(X_train.shape)\n",
    "print(y_train.shape)"
   ]
  },
  {
   "cell_type": "markdown",
   "metadata": {},
   "source": [
    "#### Adding a column of ones to the  matrices $X_{train}$ and  $X_{test}$\n",
    "After adding a column of ones $X_{train}=\\left[\\begin{matrix}\n",
    "1& x^{(1)}_1& x^{(1)}_2 &\\ldots& x^{(1)}_d\\\\\n",
    "1& x^{(2)}_1& x^{(2)}_2 &\\ldots& x^{(2)}_d\\\\\n",
    "\\vdots & \\vdots &\\vdots & & \\vdots \\\\\n",
    "1& x^{(N')}_1& x^{(N')}_2 &\\ldots& x^{(N')}_d\\\\\n",
    "\\end{matrix}\\right]$\n",
    "\n",
    "Similarly for $X_{test}$"
   ]
  },
  {
   "cell_type": "code",
   "execution_count": 140,
   "metadata": {},
   "outputs": [
    {
     "name": "stdout",
     "output_type": "stream",
     "text": [
      "The trainng data has dimensions:  (426, 31) . The testing data has dimensions:  (143, 31)\n",
      "[[ 1.         -0.34913849 -1.43851335 -0.41172595 -0.39047943 -1.86366229\n",
      "  -1.26860704 -0.82617052 -0.95286585 -1.72936805 -0.9415409  -0.86971355\n",
      "  -1.35865347 -0.83481506 -0.57230673 -0.74586846 -0.65398319 -0.52583524\n",
      "  -0.94677147 -0.53781728 -0.63449458 -0.54268486 -1.65565452 -0.58986401\n",
      "  -0.52555985 -1.51066925 -0.89149994 -0.75021715 -0.91671059 -0.92508585\n",
      "  -0.80841115]\n",
      " [ 1.         -0.20468665  0.31264011 -0.13367256 -0.27587995  1.07807258\n",
      "   0.86354605  0.72631375  0.89844062  1.17876963  1.47437716 -0.04022275\n",
      "  -0.50962253  0.10947722 -0.13472838 -0.52489487 -0.14934475  0.07460028\n",
      "   0.23747244 -0.43028253  0.08289146  0.04148684  0.68989862  0.19412774\n",
      "  -0.05193356  1.12941497  0.92394223  1.22221738  1.43655962  1.14955889\n",
      "   1.56911143]]\n"
     ]
    }
   ],
   "source": [
    "# Appending a column of ones to x_train \n",
    "\n",
    "# Step 1: Create a column vector of ones (i.e. a vector of shape N',1)\n",
    "ones = np.ones(X_train.shape[0]).reshape((X_train.shape[0], 1))\n",
    "# Step 2: Append a column of ones in the beginning of x_train\n",
    "X_train = np.hstack((ones, X_train))\n",
    "\n",
    "# Now do the same for the test data\n",
    "# Step 1: Create a column vector of ones (i.e. a vector of shape N\",1)\n",
    "ones = np.ones(X_test.shape[0]).reshape((X_test.shape[0], 1))\n",
    "# Stemp 2: Append a column of ones in the beginning of x_test\n",
    "X_test = np.hstack((ones, X_test))\n",
    "\n",
    "\n",
    "# We can check that everything worked correctly by:\n",
    "# Printing out the new dimensions\n",
    "print(\"The trainng data has dimensions: \", X_train.shape, \". The testing data has dimensions: \",X_test.shape)\n",
    "# Looking at the first two rows of X_train to check everything worked as expected\n",
    "print(X_train[0:2])"
   ]
  },
  {
   "cell_type": "markdown",
   "metadata": {},
   "source": [
    "### Understanding the dataset"
   ]
  },
  {
   "cell_type": "code",
   "execution_count": 141,
   "metadata": {},
   "outputs": [
    {
     "name": "stdout",
     "output_type": "stream",
     "text": [
      "['mean radius' 'mean texture' 'mean perimeter' 'mean area'\n",
      " 'mean smoothness' 'mean compactness' 'mean concavity'\n",
      " 'mean concave points' 'mean symmetry' 'mean fractal dimension'\n",
      " 'radius error' 'texture error' 'perimeter error' 'area error'\n",
      " 'smoothness error' 'compactness error' 'concavity error'\n",
      " 'concave points error' 'symmetry error' 'fractal dimension error'\n",
      " 'worst radius' 'worst texture' 'worst perimeter' 'worst area'\n",
      " 'worst smoothness' 'worst compactness' 'worst concavity'\n",
      " 'worst concave points' 'worst symmetry' 'worst fractal dimension']\n"
     ]
    }
   ],
   "source": [
    "# Printing the names of all the features\n",
    "print(cancer.feature_names)"
   ]
  },
  {
   "cell_type": "code",
   "execution_count": null,
   "metadata": {},
   "outputs": [],
   "source": [
    "# You can add your own code here to better understand the dataset"
   ]
  },
  {
   "cell_type": "markdown",
   "metadata": {},
   "source": [
    "\n",
    "# Step 2: Fitting the model\n",
    "## Implementing Logistic Regression Using Gradient Ascent"
   ]
  },
  {
   "cell_type": "markdown",
   "metadata": {},
   "source": [
    "\n",
    " Before writing the gradient ascent code, first write some helpful functions"
   ]
  },
  {
   "cell_type": "markdown",
   "metadata": {},
   "source": [
    "\n",
    " \n",
    "### Sigmoid($z$)\n",
    "The first function you will write is sigmoid($z$)\n",
    "\n",
    "sigmoid($z$) takes as input a column vector of real numbers, $z^T = [z_1, z_2, ..., z_{N'}]$, where $N'$ is the number of  examples\n",
    "\n",
    "It should produce as output a column vector $\\left[\\frac{1}{1+e^{-z_1}},\\frac{1}{1+e^{-z_2}},...,\\frac{1}{1+e^{-z_{N'}}}\\right]^T$"
   ]
  },
  {
   "cell_type": "code",
   "execution_count": 142,
   "metadata": {},
   "outputs": [],
   "source": [
    "# TODO - Write the sigmoid function (z can be a scalar or a vector)\n",
    "def sigmoid(z):\n",
    "    ## TODO\n",
    "    output = []\n",
    "    if np.isscalar(z):\n",
    "        e = np.exp(-z)\n",
    "        sum1 = 1 + e\n",
    "        res = 1/sum1\n",
    "        output.append(res)\n",
    "    else:\n",
    "        for element in z:\n",
    "            exp = np.exp(-element)\n",
    "            sm = 1 + exp\n",
    "            result = 1/sm\n",
    "            output.append(result)\n",
    "    return output\n",
    "    ## "
   ]
  },
  {
   "cell_type": "code",
   "execution_count": 143,
   "metadata": {},
   "outputs": [
    {
     "name": "stdout",
     "output_type": "stream",
     "text": [
      "[0.5]\n"
     ]
    }
   ],
   "source": [
    "# VERIFY - Sigmoid of 0 should be equal to 0.5\n",
    "print(sigmoid(0))"
   ]
  },
  {
   "cell_type": "markdown",
   "metadata": {},
   "source": [
    "### Initializing ${\\bf w}$\n",
    "For testing the next functions, we create a coefficient vector, ${\\bf w}$.\n",
    "We will initialize the coeffients to be $0$, i.e. ${\\bf w}^T = [0,0,\\ldots ,0]$ (We could have initialized ${\\bf w}$ to any values.)"
   ]
  },
  {
   "cell_type": "code",
   "execution_count": 144,
   "metadata": {},
   "outputs": [
    {
     "name": "stdout",
     "output_type": "stream",
     "text": [
      "(31, 1)\n"
     ]
    }
   ],
   "source": [
    "# Initialize parameters w\n",
    "w = np.zeros((X_train.shape[1], 1))\n",
    "print(w.shape)"
   ]
  },
  {
   "cell_type": "markdown",
   "metadata": {},
   "source": [
    "### Our hypothesis, $h({\\bf x})$\n",
    "The next  function to write is our hypothesis function. \n",
    "\n",
    "For example if our design matrix $X$ consists of single example $X=[1,x_1,x_2,\\ldots,x_d]$ and  weights ${\\bf w}^T=[w_0,w_2,\\ldots, w_d]$, it returns $h({\\bf x})=\\frac{1}{1+e^{-\\left({w_{0}\\cdot 1 +w_1\\cdot x_1+\\cdots w_d\\cdot x_d}\\right)}}$\n",
    "\n",
    "If given a  matrix consisting of $N'$ examples \n",
    "$X=\\left[\\begin{matrix}\n",
    "1& x^{(1)}_1& x^{(1)}_2 &\\ldots& x^{(1)}_d\\\\\n",
    "1& x^{(2)}_1& x^{(2)}_2 &\\ldots& x^{(2)}_d\\\\\n",
    "\\vdots & \\vdots &\\vdots & & \\vdots \\\\\n",
    "1& x^{(N')}_1& x^{(N')}_2 &\\ldots& x^{(N')}_d\\\\\n",
    "\\end{matrix}\\right]$\n",
    "and  weights ${\\bf w}^T=[w_0,w_2,\\ldots, w_d]$, the function returns a column vector\n",
    "$[h({\\bf x}^{(1)}),h({\\bf x}^{(2)},\\ldots, h({\\bf x}^{(N')}]^T$"
   ]
  },
  {
   "cell_type": "code",
   "execution_count": 145,
   "metadata": {},
   "outputs": [],
   "source": [
    "# predict the probability that a patient has cancer \n",
    "# TODO - Write the hypothesis function \n",
    "def hypothesis(X , w):\n",
    "    #TODO\n",
    "    X = np.transpose(X)\n",
    "    w = np.transpose(w)\n",
    "    product = w.dot(X)\n",
    "    result = sigmoid(product)\n",
    "    return np.transpose(result)\n",
    "    ##"
   ]
  },
  {
   "cell_type": "markdown",
   "metadata": {},
   "source": [
    "Before moving on, do a quick check that your function can accpet a matrix as an argument. "
   ]
  },
  {
   "cell_type": "code",
   "execution_count": 147,
   "metadata": {},
   "outputs": [
    {
     "name": "stdout",
     "output_type": "stream",
     "text": [
      "(426, 1)\n",
      "(426,)\n"
     ]
    }
   ],
   "source": [
    "# Compute y_hat using our training examples and w (w is still set to zero).  \n",
    "# This is just a preliminary test of the hypotheis function\n",
    "yhat = hypothesis(X_train, w)\n",
    "\n",
    "# print the sizes of yhat and y as a first check that the function performed correctly\n",
    "print(yhat.shape) # this should return (426, 1)\n",
    "print(y_train.shape) # this should return (426,)"
   ]
  },
  {
   "cell_type": "markdown",
   "metadata": {},
   "source": [
    "### Log-Likelihood Function.\n",
    "Write the code to calculate the log likelihood function $\\ell({\\bf w})=\n",
    "\\sum_{i=1}^{N'}y^{(i)}\\ln(h({\\bf x}^{(i)})) +(1- y^{(i)})\\ln(1-h({\\bf x}^{(i)}))$\n",
    "\n",
    "The input is a matrix consisting of $N'$ examples $X=\\left[\\begin{matrix}\n",
    "1& x^{(1)}_1& x^{(1)}_2 &\\ldots& x^{(1)}_d\\\\\n",
    "1& x^{(2)}_1& x^{(2)}_2 &\\ldots& x^{(2)}_d\\\\\n",
    "\\vdots & \\vdots &\\vdots & & \\vdots \\\\\n",
    "1& x^{(N')}_1& x^{(N')}_2 &\\ldots& x^{(N')}_d\\\\\n",
    "\\end{matrix}\\right]$\n",
    "and a column vector ${\\bf y}^T=[y^{(1)},y^{(2)},\\dots,y^{(N')}]$ of labels for $X$.\n",
    "\n",
    "The output is $\\ell({\\bf w})$"
   ]
  },
  {
   "cell_type": "code",
   "execution_count": 148,
   "metadata": {},
   "outputs": [],
   "source": [
    "# TODO - Write the log likelihood function \n",
    "def log_likelihood(X , y , w ):\n",
    "    ##TODO\n",
    "    h = hypothesis(X, w)\n",
    "    output = 0\n",
    "    for i in range(len(h)):\n",
    "        term1 = y[i] * np.log(h[i])\n",
    "        diff1 = 1 - y[i]\n",
    "        diff2 = np.log(1-h[i])\n",
    "        term2 = diff1 * diff2\n",
    "        result = term1 + term2\n",
    "        output += result\n",
    "    log_likelihood = output.item(0)\n",
    "    ##\n",
    "    return log_likelihood # you should return a real number, not a list containing a real number"
   ]
  },
  {
   "cell_type": "markdown",
   "metadata": {},
   "source": [
    "Before moving on, do a quick check of your log_likelihood function"
   ]
  },
  {
   "cell_type": "code",
   "execution_count": 149,
   "metadata": {},
   "outputs": [
    {
     "name": "stdout",
     "output_type": "stream",
     "text": [
      "-295.2806989185373\n"
     ]
    }
   ],
   "source": [
    "# VERIFY - The value should be equal to -295.2806989185367.\n",
    "print(log_likelihood(X_train,y_train,w))"
   ]
  },
  {
   "cell_type": "markdown",
   "metadata": {},
   "source": [
    "# Gradient Ascent\n",
    "Now write the code to perform gradient ascent.  You will use the update rule from the lecture notes."
   ]
  },
  {
   "cell_type": "code",
   "execution_count": 150,
   "metadata": {},
   "outputs": [],
   "source": [
    "# TODO - Write the gradient ascent function \n",
    "def Logistic_Regresion_Gradient_Ascent(X, y, learning_rate, num_iters):\n",
    "    # For every 100 iterations, store the log_likelihood for the current w\n",
    "    # Initializing log_likelihood to be an empty list  \n",
    "    log_likelihood_values = []\n",
    "    # Initialize w to be a zero vector of shape x_train.shape[1],1\n",
    "    w = np.zeros((X.shape[1], 1))\n",
    "    # Initialize N to the number of training examples\n",
    "    N = X.shape[0] \n",
    "    ## TODO \n",
    "    for i in range(num_iters):\n",
    "        derivatives = []\n",
    "        X_T = np.transpose(X)\n",
    "        h = hypothesis(X, w)\n",
    "        diff = y - h.flatten()\n",
    "        for j in range(len(X[0])):\n",
    "            sum1 = 0\n",
    "            for k in range(len(diff)):\n",
    "                prod = diff[k]*X[k][j]\n",
    "                sum1 += prod\n",
    "            derivatives.append(sum1)\n",
    "        for a in range(len(w)):\n",
    "            q = learning_rate/N\n",
    "            p = q*derivatives[a]\n",
    "            w[a] += p\n",
    "    ##\n",
    "        if (i % 100) == 0:\n",
    "            log_likelihood_values.append(log_likelihood(X,y,w))\n",
    "        \n",
    "    return w, log_likelihood_values"
   ]
  },
  {
   "cell_type": "markdown",
   "metadata": {},
   "source": [
    "### After completing the code above, run the following"
   ]
  },
  {
   "cell_type": "code",
   "execution_count": 151,
   "metadata": {},
   "outputs": [
    {
     "name": "stdout",
     "output_type": "stream",
     "text": [
      "[[-0.1056701 ]\n",
      " [-0.03553097]\n",
      " [-0.0536691 ]\n",
      " [ 0.17221516]\n",
      " [-0.31116366]\n",
      " [-0.45434972]\n",
      " [ 2.75131896]\n",
      " [-1.30570826]\n",
      " [-3.03314808]\n",
      " [ 1.16803283]\n",
      " [-0.85636742]\n",
      " [-3.72793978]\n",
      " [ 0.72266145]\n",
      " [-0.80953786]\n",
      " [-2.47051644]\n",
      " [-0.40297532]\n",
      " [ 0.53078335]\n",
      " [ 0.03099043]\n",
      " [-1.27545053]\n",
      " [ 1.31001975]\n",
      " [ 2.1018566 ]\n",
      " [-1.64716699]\n",
      " [-2.84431473]\n",
      " [-0.20035616]\n",
      " [-1.77971341]\n",
      " [-0.16157425]\n",
      " [ 0.73553297]\n",
      " [-2.45713669]\n",
      " [-1.31520556]\n",
      " [-2.99931319]\n",
      " [-0.38232592]]\n",
      "[-104.34561005259047, -30.61342104059971, -26.679954427411644, -24.76478769939303, -23.544913930501764, -22.668618640929317, -21.995874538657667, -21.45672990771386, -21.00947210360729, -20.627251944141722, -20.292743277182126, -19.99462548460866, -19.725219641902154, -19.479089646022683, -19.25224210193073, -19.04165372573557, -18.844978275885225, -18.660356638383075, -18.486289239717966, -18.321547742766644, -18.165112366906538, -18.016126409492422, -17.873862603144904, -17.73769779540659, -17.607093594208834, -17.48158136455062, -17.36075044884248, -17.244238809830644, -17.13172551798444, -17.02292466013617, -16.917580355470143, -16.81546264319195, -16.716364062948887, -16.620096790720158, -16.526490223816673, -16.435388931827774, -16.346650907930005, -16.26014606841489, -16.175754958663532, -16.093367631862144, -16.012882673077193, -15.934206346302481, -15.857251846063118, -15.781938638341996, -15.708191878155388, -15.635941893182682, -15.565123724547382, -15.49567671723483, -15.42754415377467, -15.360672925764232]\n"
     ]
    }
   ],
   "source": [
    "learning_rate = 0.5\n",
    "num_iters = 5000 # The number of iteratins to run the gradient ascent algorithm\n",
    "\n",
    "w, log_likelihood_values = Logistic_Regresion_Gradient_Ascent(X_train, y_train, learning_rate, num_iters)\n",
    "print(w)\n",
    "print(log_likelihood_values)"
   ]
  },
  {
   "cell_type": "markdown",
   "metadata": {},
   "source": [
    "# Plotting Likelihood v/s Number of Iterations."
   ]
  },
  {
   "cell_type": "code",
   "execution_count": 152,
   "metadata": {},
   "outputs": [
    {
     "data": {
      "image/png": "[encoded data removed]",
      "text/plain": [
       "<Figure size 432x288 with 1 Axes>"
      ]
     },
     "metadata": {
      "needs_background": "light"
     },
     "output_type": "display_data"
    }
   ],
   "source": [
    "# Run this cell to plot Likelihood v/s Number of Iterations.\n",
    "iters = np.array(range(0,num_iters,100))\n",
    "plt.plot(iters,log_likelihood_values,'.-',color='green')\n",
    "plt.xlabel('Number of iterations')\n",
    "plt.ylabel('Likelihood')\n",
    "plt.title(\"Likelihood vs Number of Iterations.\")\n",
    "plt.grid()"
   ]
  },
  {
   "cell_type": "markdown",
   "metadata": {},
   "source": [
    "You should see the likelihood increasing as number of Iterations increase."
   ]
  },
  {
   "cell_type": "markdown",
   "metadata": {},
   "source": [
    "### The rest of your code goes here"
   ]
  },
  {
   "cell_type": "code",
   "execution_count": 176,
   "metadata": {},
   "outputs": [],
   "source": [
    "def predict(y_pred, threshold):\n",
    "    for i in range(len(y_test)):\n",
    "        if y_pred[i] >= threshold:\n",
    "            y_pred[i] = 1\n",
    "        else:\n",
    "            y_pred[i] = 0\n",
    "    return y_pred"
   ]
  },
  {
   "cell_type": "code",
   "execution_count": 177,
   "metadata": {},
   "outputs": [],
   "source": [
    "def confusion_matrix(y_test, predictions):\n",
    "    true_positives = 0\n",
    "    false_positives = 0\n",
    "    false_negatives = 0\n",
    "    true_negatives = 0\n",
    "    for i in range(len(y_test)):\n",
    "        if y_test[i] == 1 and predictions[i] == 1:\n",
    "            true_positives += 1\n",
    "        elif y_test[i] == 0 and predictions[i] == 1:\n",
    "            false_positives += 1\n",
    "        elif y_test[i] == 1 and predictions[i] == 0:\n",
    "            false_negatives += 1\n",
    "        elif y_test[i] == 0 and predictions[i] == 0:\n",
    "            true_negatives += 1\n",
    "    return true_positives, false_positives, false_negatives, true_negatives"
   ]
  },
  {
   "cell_type": "markdown",
   "metadata": {},
   "source": [
    "# Step 3: Evaluating your model"
   ]
  },
  {
   "cell_type": "code",
   "execution_count": 184,
   "metadata": {},
   "outputs": [
    {
     "name": "stdout",
     "output_type": "stream",
     "text": [
      "[1. 0. 0. 1. 1. 0. 0. 0. 0. 1. 1. 0. 1. 0. 1. 0. 1. 1. 1. 0. 1. 1. 0. 1.\n",
      " 1. 1. 1. 1. 1. 0. 1. 1. 1. 1. 1. 1. 0. 1. 0. 1. 1. 0. 1. 1. 1. 1. 1. 1.\n",
      " 1. 1. 0. 0. 1. 1. 1. 1. 1. 0. 0. 1. 1. 0. 0. 1. 1. 1. 0. 0. 1. 1. 0. 0.\n",
      " 1. 0. 1. 1. 1. 0. 1. 1. 0. 1. 0. 0. 0. 0. 0. 0. 1. 1. 1. 1. 1. 1. 1. 1.\n",
      " 0. 0. 1. 0. 0. 1. 0. 0. 1. 1. 1. 0. 1. 1. 0. 1. 0. 0. 0. 0. 1. 1. 1. 0.\n",
      " 1. 1. 1. 0. 1. 0. 0. 1. 1. 0. 0. 0. 1. 1. 1. 0. 1. 1. 1. 0. 1. 0. 1.]\n",
      "True Positives: 86, False Positives: 1, False Negatives: 3, True Negatives: 53\n"
     ]
    }
   ],
   "source": [
    "pd = hypothesis(X_test, w)\n",
    "y_predictions = predict(pd, 0.5)\n",
    "conf = confusion_matrix(y_test, y_predictions)\n",
    "print(y_predictions.flatten())\n",
    "print(\"True Positives: {0}, False Positives: {1}, False Negatives: {2}, True Negatives: {3}\".format(conf[0], conf[1], conf[2], conf[3]))"
   ]
  },
  {
   "cell_type": "code",
   "execution_count": 183,
   "metadata": {},
   "outputs": [
    {
     "name": "stdout",
     "output_type": "stream",
     "text": [
      "Precision: 0.9885057471264368, Recall: 0.9662921348314607, FPR: 0.018518518518518517, F1_Score: 0.9772727272727273\n"
     ]
    }
   ],
   "source": [
    "def f1_score(tp, fp, fn, tn):\n",
    "    sum1 = tp + fp\n",
    "    sum2 = tp + fn\n",
    "    sum3 = fp + tn\n",
    "    precision = tp/sum1\n",
    "    recall = tp/sum2\n",
    "    fpr = fp/sum3\n",
    "    sum4 = precision + recall\n",
    "    prod = precision * recall\n",
    "    f1_score = prod/sum4\n",
    "    f1_score *= 2\n",
    "    return precision, recall, fpr, f1_score\n",
    "f1 = f1_score(conf[0], conf[1], conf[2], conf[3])\n",
    "print(\"Precision: {0}, Recall: {1}, FPR: {2}, F1_Score: {3}\".format(f1[0], f1[1], f1[2], f1[3]))"
   ]
  },
  {
   "cell_type": "code",
   "execution_count": 194,
   "metadata": {},
   "outputs": [
    {
     "name": "stdout",
     "output_type": "stream",
     "text": [
      "[[-0.54253129]\n",
      " [ 0.1713573 ]\n",
      " [-0.10812794]\n",
      " [ 0.5131075 ]\n",
      " [-0.21702832]\n",
      " [-0.60829694]\n",
      " [ 4.31462032]\n",
      " [-1.66566682]\n",
      " [-4.49674402]\n",
      " [ 1.4722293 ]\n",
      " [-1.63527874]\n",
      " [-5.18691283]\n",
      " [ 0.92041619]\n",
      " [-0.30590011]\n",
      " [-3.21003538]\n",
      " [-0.4108233 ]\n",
      " [-0.07670714]\n",
      " [ 0.55937167]\n",
      " [-1.98776135]\n",
      " [ 1.8412442 ]\n",
      " [ 2.93966762]\n",
      " [-2.11433102]\n",
      " [-3.21006588]\n",
      " [ 0.33211958]\n",
      " [-2.3449386 ]\n",
      " [ 0.24184158]\n",
      " [ 1.04904343]\n",
      " [-3.28646968]\n",
      " [-1.0582045 ]\n",
      " [-3.80863377]\n",
      " [-0.54371314]]\n",
      "[-104.34561005259047, -30.61342104059971, -26.679954427411644, -24.76478769939303, -23.544913930501764, -22.668618640929317, -21.995874538657667, -21.45672990771386, -21.00947210360729, -20.627251944141722, -20.292743277182126, -19.99462548460866, -19.725219641902154, -19.479089646022683, -19.25224210193073, -19.04165372573557, -18.844978275885225, -18.660356638383075, -18.486289239717966, -18.321547742766644, -18.165112366906538, -18.016126409492422, -17.873862603144904, -17.73769779540659, -17.607093594208834, -17.48158136455062, -17.36075044884248, -17.244238809830644, -17.13172551798444, -17.02292466013617, -16.917580355470143, -16.81546264319195, -16.716364062948887, -16.620096790720158, -16.526490223816673, -16.435388931827774, -16.346650907930005, -16.26014606841489, -16.175754958663532, -16.093367631862144, -16.012882673077193, -15.934206346302481, -15.857251846063118, -15.781938638341996, -15.708191878155388, -15.635941893182682, -15.565123724547382, -15.49567671723483, -15.42754415377467, -15.360672925764232, -15.29501323859521, -15.230518345405121, -15.167144306827222, -15.104849773577998, -15.04359578931554, -14.983345611536292, -14.924064548563054, -14.86571981092075, -14.808280375605781, -14.751716861934739, -14.696001417813951, -14.641107615405362, -14.587010355281635, -14.533685778264891, -14.481111184231695, -14.429264957245508, -14.37812649644466, -14.327676152174789, -14.27789516690634, -14.22876562052513, -14.180270379624009, -14.132393050460857, -14.085117935280165, -14.038429991723921, -13.9923147950835, -13.946758503166844, -13.901747823575585, -13.857269983205434, -13.813312699798994, -13.769864155395418, -13.726912971534265, -13.684448186083177, -13.642459231569605, -13.600935914906614, -13.559868398411833, -13.51924718202669, -13.479063086650072, -13.439307238507707, -13.399971054484249, -13.361046228351107, -13.322524717827148, -13.284398732415925, -13.246660721964973, -13.20930336589868, -13.172319563078943, -13.135702422250965, -13.099445253035341, -13.06354155742977, -13.027985021786561, -12.99276950923473]\n"
     ]
    }
   ],
   "source": [
    "# tuning the hyper paramters to find better values\n",
    "new_learning_rate = 0.5\n",
    "new_num_iters = 10000 \n",
    "\n",
    "new_w, new_log_likelihood_values = Logistic_Regresion_Gradient_Ascent(X_train, y_train, new_learning_rate, new_num_iters)\n",
    "print(new_w)\n",
    "print(new_log_likelihood_values)"
   ]
  },
  {
   "cell_type": "code",
   "execution_count": 205,
   "metadata": {},
   "outputs": [
    {
     "name": "stdout",
     "output_type": "stream",
     "text": [
      "[1. 0. 0. 1. 1. 0. 0. 0. 1. 1. 1. 0. 1. 0. 1. 0. 1. 1. 1. 0. 1. 1. 0. 1.\n",
      " 1. 1. 1. 1. 1. 0. 1. 1. 1. 1. 1. 1. 0. 1. 0. 1. 1. 0. 1. 1. 1. 1. 1. 1.\n",
      " 1. 1. 0. 0. 1. 1. 1. 1. 1. 0. 0. 1. 1. 0. 0. 1. 1. 1. 0. 0. 1. 1. 0. 0.\n",
      " 1. 0. 1. 1. 1. 1. 1. 1. 0. 1. 0. 0. 0. 0. 0. 0. 1. 1. 1. 1. 1. 1. 1. 1.\n",
      " 0. 0. 1. 0. 0. 1. 0. 0. 1. 1. 1. 0. 1. 1. 0. 1. 1. 0. 0. 0. 1. 1. 1. 0.\n",
      " 1. 1. 1. 0. 1. 0. 0. 1. 1. 0. 0. 0. 1. 1. 1. 0. 1. 1. 1. 0. 1. 0. 1.]\n",
      "True Positives: 88, False Positives: 2, False Negatives: 1, True Negatives: 52\n"
     ]
    }
   ],
   "source": [
    "# adjusting the threshold to get a better f1 score\n",
    "new_pd = hypothesis(X_test, new_w)\n",
    "new_y_predictions = predict(new_pd, 0.1)\n",
    "new_conf = confusion_matrix(y_test, new_y_predictions)\n",
    "print(new_y_predictions.flatten())\n",
    "print(\"True Positives: {0}, False Positives: {1}, False Negatives: {2}, True Negatives: {3}\".format(new_conf[0], new_conf[1], new_conf[2], new_conf[3]))"
   ]
  },
  {
   "cell_type": "code",
   "execution_count": 203,
   "metadata": {},
   "outputs": [
    {
     "name": "stdout",
     "output_type": "stream",
     "text": [
      "Precision: 0.9777777777777777, Recall: 0.9887640449438202, FPR: 0.037037037037037035, F1_Score: 0.9832402234636872\n"
     ]
    }
   ],
   "source": [
    "f1 = f1_score(new_conf[0], new_conf[1], new_conf[2], new_conf[3])\n",
    "print(\"Precision: {0}, Recall: {1}, FPR: {2}, F1_Score: {3}\".format(f1[0], f1[1], f1[2], f1[3]))"
   ]
  }
 ],
 "metadata": {
  "kernelspec": {
   "display_name": "Python 3",
   "language": "python",
   "name": "python3"
  },
  "language_info": {
   "codemirror_mode": {
    "name": "ipython",
    "version": 3
   },
   "file_extension": ".py",
   "mimetype": "text/x-python",
   "name": "python",
   "nbconvert_exporter": "python",
   "pygments_lexer": "ipython3",
   "version": "3.7.8"
  }
 },
 "nbformat": 4,
 "nbformat_minor": 2
}

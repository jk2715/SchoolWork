{
 "cells": [
  {
   "cell_type": "code",
   "execution_count": 3,
   "metadata": {},
   "outputs": [
    {
     "name": "stdout",
     "output_type": "stream",
     "text": [
      "The docs with jaccard similarity > 0.01 are ['min18', 'min3', 'min0', 'min32', 'min13', 'min73', 'min1', 'min66', 'min67', 'min57', 'min41', 'min5', 'min36', 'min10', 'min23', 'min70', 'min30', 'min42', 'min47', 'min29']\n"
     ]
    }
   ],
   "source": [
    "#For this task, the python library datasketch was used, which has its own pre-defined functions for both minhashing and lsh\n",
    "#A text file from cookbook.zip is arbitrarily selected to be compared with every other txt file\n",
    "#Note that the output returns only those docs with a jaccard similarity above the specified threshold\n",
    "#Also note that the selected file is not excluded from the compiled list of files, so it will always show up in the output\n",
    "#Output names are given by \"min\" + a zero based index, which is equivalent to the order in which the cookbook text files are stored\n",
    "from datasketch import MinHash, MinHashLSH\n",
    "file1 = open(\"C:/Users/jack_/Desktop/cookbook/grea.txt\")\n",
    "txt = file1.read()\n",
    "lines = txt.split(\"\\n\")\n",
    "ls = list()\n",
    "dir = \"C:/Users/jack_/Desktop/cookbook/\"\n",
    "for filename in os.listdir(dir):\n",
    "    with open(dir + filename, \"r\") as file:\n",
    "        sp = file.read()\n",
    "        ls.append(sp.split(\"\\n\"))\n",
    "min1 = MinHash(num_perm=128)\n",
    "lsh = MinHashLSH(threshold=0.01, num_perm=128)\n",
    "for doc in lines:\n",
    "    min1.update(doc.encode('utf8'))\n",
    "i = 0\n",
    "for doc in ls:\n",
    "    min = MinHash(num_perm=128)\n",
    "    for ln in doc:\n",
    "        min.update(ln.encode('utf8'))\n",
    "    lsh.insert(\"min\" + str(i), min)\n",
    "    i = i + 1\n",
    "res = lsh.query(min1)\n",
    "print(\"The docs with jaccard similarity > 0.01 are\", res)"
   ]
  },
  {
   "cell_type": "code",
   "execution_count": null,
   "metadata": {},
   "outputs": [],
   "source": []
  },
  {
   "cell_type": "code",
   "execution_count": null,
   "metadata": {},
   "outputs": [],
   "source": []
  }
 ],
 "metadata": {
  "kernelspec": {
   "display_name": "Python 3",
   "language": "python",
   "name": "python3"
  },
  "language_info": {
   "codemirror_mode": {
    "name": "ipython",
    "version": 3
   },
   "file_extension": ".py",
   "mimetype": "text/x-python",
   "name": "python",
   "nbconvert_exporter": "python",
   "pygments_lexer": "ipython3",
   "version": "3.7.5"
  }
 },
 "nbformat": 4,
 "nbformat_minor": 4
}

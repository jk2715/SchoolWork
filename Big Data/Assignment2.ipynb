{
 "cells": [
  {
   "cell_type": "code",
   "execution_count": 9,
   "metadata": {},
   "outputs": [],
   "source": [
    "import findspark\n",
    "findspark.init()"
   ]
  },
  {
   "cell_type": "code",
   "execution_count": 75,
   "metadata": {},
   "outputs": [],
   "source": [
    "from pyspark.sql import SparkSession\n",
    "spark = SparkSession.builder.appName(\"test\").getOrCreate()\n",
    "from pyspark.sql.functions import format_string\n",
    "import sys\n",
    "from pyspark import SparkContext\n",
    "from csv import reader\n",
    "from pyspark.sql.functions import date_format\n",
    "from pyspark.sql.functions import col\n",
    "from datetime import datetime\n",
    "from pyspark.sql.functions import round"
   ]
  },
  {
   "cell_type": "code",
   "execution_count": 59,
   "metadata": {
    "scrolled": true
   },
   "outputs": [
    {
     "data": {
      "text/plain": [
       "[['medallion',\n",
       "  'hack_license',\n",
       "  'vendor_id',\n",
       "  'pickup_datetime',\n",
       "  'payment_type',\n",
       "  'fare_amount',\n",
       "  'surcharge',\n",
       "  'mta_tax',\n",
       "  'tip_amount',\n",
       "  'tolls_amount',\n",
       "  'total_amount']]"
      ]
     },
     "execution_count": 59,
     "metadata": {},
     "output_type": "execute_result"
    }
   ],
   "source": [
    "df1 = spark.read.format(\"csv\").options(header = 'true', inferSchema = 'true').load(\"C:\\\\Users\\jack_\\Desktop\\Big_data\\Trips.csv\")\n",
    "df2 = spark.read.format(\"csv\").options(header = 'true', inferSchema = 'true').load(\"C:\\\\Users\\jack_\\Desktop\\Big_data\\Fares.csv\")\n",
    "df3 = spark.read.format(\"csv\").options(header = 'true', inferSchema = 'true').load(\"C:\\\\Users\\jack_\\Desktop\\Big_data\\Licenses.csv\")\n",
    "df1.createOrReplaceTempView(\"table1\")\n",
    "df2.createOrReplaceTempView(\"table2\")\n",
    "df3.createOrReplaceTempView(\"table3\")\n",
    "lines = sc.textFile(\"C:\\\\Users\\jack_\\Desktop\\Big_data\\Trips.csv\", 5)\n",
    "lines2 = sc.textFile(\"C:\\\\Users\\jack_\\Desktop\\Big_data\\Fares.csv\", 5)\n",
    "lines3 = sc.textFile(\"C:\\\\Users\\jack_\\Desktop\\Big_data\\Licenses.csv\", 5)\n",
    "lines = lines.mapPartitions(lambda x: reader(x))\n",
    "lines2 = lines2.mapPartitions(lambda x: reader(x))\n",
    "lines3 = lines3.mapPartitions(lambda x: reader(x))\n",
    "header = lines.take(1)[0]\n",
    "header2 = lines2.take(1)[0]\n",
    "header3 = lines3.take(1)[0]\n",
    "rdd = lines.filter(lambda x: x != header)\n",
    "rdd2 = lines2.filter(lambda x: x != header2)\n",
    "rdd3 = lines3.filter(lambda x: x != header3)"
   ]
  },
  {
   "cell_type": "code",
   "execution_count": 53,
   "metadata": {},
   "outputs": [
    {
     "name": "stdout",
     "output_type": "stream",
     "text": [
      "+--------------------------------------------------------------------------------------------------------------------------------------------------------------------------------------------------------------------------+\n",
      "|result                                                                                                                                                                                                                    |\n",
      "+--------------------------------------------------------------------------------------------------------------------------------------------------------------------------------------------------------------------------+\n",
      "|00005007A9F30E289E760362F69E4EAD, 39C3E34B3E338A7210C1D3163E6E9589, 2013-08-05 14:38:11, CMT, 1, N, 2013-08-05 14:52:44, 1, 873, 2.5, -73.992638, 40.743778, -74.007828, 40.724129, CRD, 12.0, 0.0, 0.5, 1.5, 0.0, 14.0,  |\n",
      "|000351EDC735C079246435340A54C7C1, 16455C0F0C008C18A457A8DAB98B5715, 2013-08-01 20:04:15, CMT, 1, N, 2013-08-01 20:17:55, 1, 820, 1.9, -74.003044, 40.749195, -73.975861, 40.749706, CSH, 10.5, 0.5, 0.5, 0.0, 0.0, 11.5,  |\n",
      "|000351EDC735C079246435340A54C7C1, 16455C0F0C008C18A457A8DAB98B5715, 2013-08-05 17:14:57, CMT, 1, N, 2013-08-05 17:23:20, 1, 502, 1.5, -73.992615, 40.751732, -73.971817, 40.753948, CRD, 8.0, 1.0, 0.5, 1.9, 0.0, 11.4,   |\n",
      "|0009986BDBAB2F9A125FEF49D0BFCCDD, 44CED38841518B1FB5E25E3624610A38, 2013-08-06 00:46:32, CMT, 1, N, 2013-08-06 01:08:35, 1, 1322, 6.4, -73.970787, 40.796051, -73.998741, 40.723133, CSH, 22.5, 0.5, 0.5, 0.0, 0.0, 23.5, |\n",
      "|0009986BDBAB2F9A125FEF49D0BFCCDD, 44CED38841518B1FB5E25E3624610A38, 2013-08-06 18:18:48, CMT, 1, N, 2013-08-06 18:27:23, 1, 515, 2.1, -73.957344, 40.784237, -73.982269, 40.772892, CRD, 9.0, 1.0, 0.5, 2.62, 0.0, 13.12, |\n",
      "|001DFAC01BC0A32F48C3769DD1414778, 85DAF987A2388456CF417F5AF52D3AAB, 2013-08-04 12:37:02, CMT, 1, N, 2013-08-04 12:42:00, 2, 298, 0.5, -73.995155, 40.750011, -73.990173, 40.755112, CSH, 5.0, 0.0, 0.5, 0.0, 0.0, 5.5,    |\n",
      "|003EEA559FA61800874D4F6805C4A084, 8E137C415B6515787D7FD7A7EC666BAE, 2013-08-07 22:16:00, VTS, 1, null, 2013-08-07 22:18:00, 1, 120, 0.93, -73.964287, 40.776279, -73.973572, 40.768234, CSH, 4.5, 0.5, 0.5, 0.0, 0.0, 5.5,|\n",
      "|004593A2C9FEBC352B58C438F73FB435, DFE5B4139DD63453754D93CC299A05EA, 2013-08-04 10:31:49, CMT, 1, N, 2013-08-04 10:45:15, 1, 806, 2.7, -74.002808, 40.760506, -73.976395, 40.780663, CRD, 12.0, 0.0, 0.5, 3.0, 0.0, 15.5,  |\n",
      "|004DA06CE05F08C54A8BF9380CB73F27, 596CA087AB452E74E10E6689D169FEBA, 2013-08-01 19:12:58, CMT, 1, N, 2013-08-01 19:32:34, 2, 1175, 4.3, -73.988899, 40.692284, -73.936203, 40.671825, CSH, 16.5, 1.0, 0.5, 0.0, 0.0, 18.0, |\n",
      "|0053334C798EC6C8E637657962030F99, AC901C98FCFA6109186500A50E95AEDE, 2013-08-05 08:18:00, VTS, 1, null, 2013-08-05 08:26:00, 1, 480, 1.56, -73.998596, 40.74519, -73.980141, 40.751083, CRD, 8.0, 0.0, 0.5, 1.6, 0.0, 10.1,|\n",
      "|0055B7428059CBA7F6176AA898075962, 127CF3122A7F05DFC5C80D7691A099AB, 2013-08-06 11:25:16, CMT, 1, N, 2013-08-06 11:29:29, 1, 253, 0.7, -73.985756, 40.747162, -73.992348, 40.737885, CRD, 5.0, 0.0, 0.5, 1.1, 0.0, 6.6,    |\n",
      "|0055B7428059CBA7F6176AA898075962, A012B0BD2C1C77528757067D43A7EE9F, 2013-08-03 02:03:20, CMT, 1, N, 2013-08-03 02:08:13, 1, 292, 1.1, -73.987946, 40.73798, -73.992279, 40.749207, CSH, 6.0, 0.5, 0.5, 0.0, 0.0, 7.0,     |\n",
      "|0077F5EC5F4A9AD15F4DDBB24CCFFD02, 16F723821ACA9DC914E44D49762EBF9F, 2013-08-06 21:50:48, CMT, 1, N, 2013-08-06 21:57:34, 1, 406, 2.4, -74.003761, 40.748131, -73.978851, 40.772247, CRD, 8.5, 0.5, 0.5, 1.5, 0.0, 11.0,   |\n",
      "|0077F5EC5F4A9AD15F4DDBB24CCFFD02, 1DBCBE1F9FD18772599753791C793E13, 2013-08-07 21:12:10, CMT, 1, N, 2013-08-07 21:24:05, 1, 715, 2.0, -73.969734, 40.766285, -73.991661, 40.749825, CSH, 9.5, 0.5, 0.5, 0.0, 0.0, 10.5,   |\n",
      "|0077F5EC5F4A9AD15F4DDBB24CCFFD02, 23A074A84B027D5624C92E0EB5540D32, 2013-08-02 16:25:31, CMT, 1, N, 2013-08-02 16:36:07, 1, 636, 2.6, -73.957397, 40.76577, -73.932297, 40.794937, CSH, 10.0, 1.0, 0.5, 0.0, 0.0, 11.5,   |\n",
      "|0077F5EC5F4A9AD15F4DDBB24CCFFD02, 42E0D9E754B03BF49CB9C95968A6CD46, 2013-08-06 13:19:38, CMT, 1, N, 2013-08-06 13:36:17, 1, 999, 3.2, -73.952034, 40.803028, -73.968346, 40.765053, CSH, 14.0, 0.0, 0.5, 0.0, 0.0, 14.5,  |\n",
      "|0077F5EC5F4A9AD15F4DDBB24CCFFD02, 984326325C44276BEF8144AD9989BEA9, 2013-08-03 11:21:37, CMT, 1, N, 2013-08-03 11:23:18, 2, 101, 0.2, -73.993675, 40.720959, -73.992828, 40.723194, CSH, 3.0, 0.0, 0.5, 0.0, 0.0, 3.5,    |\n",
      "|0077F5EC5F4A9AD15F4DDBB24CCFFD02, DA77BDC1BC5CFD0E31613E7E2FF4EA24, 2013-08-01 22:44:43, CMT, 1, N, 2013-08-01 23:02:31, 1, 1068, 8.9, -73.862701, 40.76886, -73.978546, 40.743443, CRD, 26.5, 0.5, 0.5, 6.0, 5.33, 38.83,|\n",
      "|0077F5EC5F4A9AD15F4DDBB24CCFFD02, F83A75EFFE19F35884FB86AF1CD25995, 2013-08-05 10:05:46, CMT, 1, N, 2013-08-05 10:14:47, 1, 540, 1.0, -73.991302, 40.750214, -73.983101, 40.756268, CRD, 7.5, 0.0, 0.5, 1.6, 0.0, 9.6,    |\n",
      "|007A1FC063DA40140AF6BFB43A047444, 634016C9F629326DD77105CAF1B2ADD8, 2013-08-01 18:11:56, CMT, 1, N, 2013-08-01 18:23:21, 4, 684, 2.0, -73.978447, 40.786156, -73.950623, 40.782452, CRD, 10.0, 1.0, 0.5, 2.85, 0.0, 14.35,|\n",
      "+--------------------------------------------------------------------------------------------------------------------------------------------------------------------------------------------------------------------------+\n",
      "only showing top 20 rows\n",
      "\n"
     ]
    }
   ],
   "source": [
    "dfFilter = spark.sql(\"select * from table1 where passenger_count > 0 order by medallion, hack_license, pickup_datetime\")\n",
    "trips = dfFilter.alias('trips')\n",
    "fares = df2.alias('fares')\n",
    "inner_join = trips.join(fares, (trips.medallion == fares.medallion) & (trips.hack_license == fares.hack_license) & (trips.vendor_id == fares.vendor_id) & (trips.pickup_datetime == fares.pickup_datetime))\n",
    "inner_join1 = inner_join.select(trips.medallion, trips.hack_license, trips.pickup_datetime, trips.vendor_id, inner_join.rate_code, inner_join.store_and_fwd_flag, inner_join.dropoff_datetime, inner_join.passenger_count, inner_join.trip_time_in_secs, inner_join.trip_distance, inner_join.pickup_longitude, inner_join.pickup_latitude, inner_join.dropoff_longitude, inner_join.dropoff_latitude, inner_join.payment_type, inner_join.fare_amount, inner_join.surcharge, inner_join.mta_tax, inner_join.tip_amount, inner_join.tolls_amount, inner_join.total_amount)\n",
    "inner_join1.createOrReplaceTempView('table4')\n",
    "inner_join1.select(format_string('%s, %s, %s, %s, %s, %s, %s, %s, %s, %s, %s, %s, %s, %s, %s, %s, %s, %s, %s, %s, %s,',inner_join1.medallion, inner_join1.hack_license, inner_join1.pickup_datetime, inner_join1.vendor_id, inner_join1.rate_code, inner_join1.store_and_fwd_flag, inner_join1.dropoff_datetime, inner_join1.passenger_count, inner_join1.trip_time_in_secs, inner_join1.trip_distance, inner_join1.pickup_longitude, inner_join1.pickup_latitude, inner_join1.dropoff_longitude, inner_join1.dropoff_latitude, inner_join1.payment_type, inner_join1.fare_amount, inner_join1.surcharge, inner_join1.mta_tax, inner_join1.tip_amount, inner_join1.tolls_amount, inner_join1.total_amount).alias('result')).write.save(\"task1a-sql.out\", format=\"text\")"
   ]
  },
  {
   "cell_type": "code",
   "execution_count": 66,
   "metadata": {
    "scrolled": false
   },
   "outputs": [
    {
     "data": {
      "text/plain": [
       "[(('00005007A9F30E289E760362F69E4EAD',\n",
       "   '2C584442C9DC6740767CDE5672C12379',\n",
       "   'CMT',\n",
       "   '2013-08-06 23:44:12'),\n",
       "  (('1',\n",
       "    'N',\n",
       "    '2013-08-06 23:44:53',\n",
       "    '1',\n",
       "    '40',\n",
       "    '0.60000',\n",
       "    '-73.9626460000',\n",
       "    '40.8046420000',\n",
       "    '-73.9592130000',\n",
       "    '40.8091390000'),\n",
       "   ('CSH',\n",
       "    '4.0000000000',\n",
       "    '0.5000000000',\n",
       "    '0.5000000000',\n",
       "    '0.0000000000',\n",
       "    '0.0000000000',\n",
       "    '5.0000000000'))),\n",
       " (('00005007A9F30E289E760362F69E4EAD',\n",
       "   '2C584442C9DC6740767CDE5672C12379',\n",
       "   'CMT',\n",
       "   '2013-08-06 23:59:31'),\n",
       "  (('1',\n",
       "    'N',\n",
       "    '2013-08-07 00:07:40',\n",
       "    '3',\n",
       "    '489',\n",
       "    '1.50000',\n",
       "    '-73.9876710000',\n",
       "    '40.7752760000',\n",
       "    '-73.9814680000',\n",
       "    '40.7640690000'),\n",
       "   ('CSH',\n",
       "    '7.5000000000',\n",
       "    '0.5000000000',\n",
       "    '0.5000000000',\n",
       "    '0.0000000000',\n",
       "    '0.0000000000',\n",
       "    '8.5000000000')))]"
      ]
     },
     "execution_count": 66,
     "metadata": {},
     "output_type": "execute_result"
    }
   ],
   "source": [
    "filtered = rdd.filter(lambda x: int(x[7]) > 0)\n",
    "mapped2 = rdd2.map(lambda y: ((y[0], y[1], y[2], y[3]), (y[4], y[5], y[6], y[7], y[8], y[9], y[10])))\n",
    "mapped = filtered.map(lambda key: ((key[0], key[1], key[2], key[5]), (key[3], key[4], key[6], key[7], key[8], key[9], key[10], key[11], key[12], key[13])))\n",
    "inner_join = mapped.join(mapped2)\n",
    "sorted = inner_join.sortByKey(True)\n",
    "sorted.saveAsTextFile(\"task1a.out\")"
   ]
  },
  {
   "cell_type": "code",
   "execution_count": 94,
   "metadata": {},
   "outputs": [
    {
     "name": "stdout",
     "output_type": "stream",
     "text": [
      "+----------------------------------------------------------------------------------------------------------------------------------------------------------------------------------------------------------------------------------------------------------------------------------------------------------------------------------------+\n",
      "|Result                                                                                                                                                                                                                                                                                                                                  |\n",
      "+----------------------------------------------------------------------------------------------------------------------------------------------------------------------------------------------------------------------------------------------------------------------------------------------------------------------------------------+\n",
      "|AA70234AB7643A84903E4B0705352D8A, 2A3BEA5321E55025D86D65269A67DDD7, 2013-08-05 23:07:00, VTS, CRD, 52.0, 0.0, 0.5, 10.4, 0.0, 62.9, RAMIREZ, HECTOR N., MEDALLION, CUR, 5C42A, 3N8CMOJT2EK700763, DSE, 2014, NAMED DRIVER, 113, CHECKER MANAGEMENT CORP, (718)361-6300, null, 22-10 JACKSON AVENUE LIC NY 11101, 1/31/2015, 13:20       |\n",
      "|E28E2AD14EF5E6D4E3019702A243E982, D99683EBE31E9B9B26A5A04570E1F7F8, 2013-08-05 10:37:00, VTS, CSH, 17.5, 0.0, 0.5, 0.0, 0.0, 18.0, FELIX, YVES J., MEDALLION, CUR, 5C22A, 5TDBK3EH5CS137312, NRML, 2012, OWNER MUST DRIVE, 1, TIRU CABS , (718)937-4231, null, 10 METROTECH NEW YORK NY, 1/31/2015, 13:20                               |\n",
      "|1AF573B78F7BEAFF25E721041D80D2D2, F4AEEE8C03292EF4BE4C3E0BC4FF66EE, 2013-08-06 01:05:00, VTS, CRD, 21.5, 0.5, 0.5, 4.4, 0.0, 26.9, KUTAI, AMOS, MEDALLION, CUR, 5C41H, 4T1BD1FK8CU021506, HYB, 2012, NAMED DRIVER, 202, ALL TAXI MANAGEMENT INC, (718)361-0055, null, 41-25   36 STREET LIC NY 11101, 1/31/2015, 13:20                  |\n",
      "|942EDD26C4E3337133058C095AD23289, CA0BCAF81499737B35644B5F9AB19CCC, 2013-08-05 23:09:00, VTS, CSH, 52.0, 0.0, 0.5, 0.0, 0.0, 52.5, ITIN,JOSEPH, MEDALLION, CUR, 5C33A, 1N4AL3AP7DC915494, CNG, 2013, NAMED DRIVER, 307, TAXIFLEET MANAGEMENT LLC, (718)779-5000, null, 54-11 QUEENS BOULEVARD WOODSIDE NY 11377, 1/31/2015, 13:20       |\n",
      "|6BA29E9A69B10F218C1509BEDD7410C2, 4FE29988ED28B24418058814A371F326, 2013-08-07 08:35:00, VTS, CSH, 8.0, 0.0, 0.5, 0.0, 0.0, 8.5, COLIN, AUGUSTIN, MEDALLION, CUR, 5C40A, 4T1BD1FK6EU139444, HYB, 2014, OWNER MUST DRIVE, 329, NYC TAXI GROUP INC., (718)253-3501, null, 876 MCDONALD AVENUE BROOKLYN NY 11218, 1/31/2015, 13:20         |\n",
      "|CBBE30BB243B09EADA18DAFB28035441, 22457AF4EC023E0E8BBF351791A5C811, 2013-08-07 08:41:00, VTS, CRD, 9.5, 0.0, 0.5, 1.9, 0.0, 11.9, N&L TAXI CORP, MEDALLION, CUR, 9M62A, 3N8CM0JT9EK690331, DSE, 2014, NAMED DRIVER, 259, MC GUINNESS MANAGEMENT CORP, (718)389-4483, null, 330 MC GUINNESS BOULEVARD BKLYN NY 11222, 1/31/2015, 13:20   |\n",
      "|39EBD6484D03EF51127B8B7D6A14C172, 5509A943094052ED58D903C69F3DCD9C, 2013-08-07 08:48:00, VTS, CSH, 4.0, 0.0, 0.5, 0.0, 0.0, 4.5, IFRAIMOV, MICHAEL, MEDALLION, CUR, 5C50C, 2FABP7AV4BX163204, CNG, 2011, NAMED DRIVER, 275, AVENUE M MANAGEMENT CORP, (718)627-7097, null, 1500 MCDONALD AVENUE BROOKLYN NY 11230, 1/31/2015, 13:20     |\n",
      "|FCFFBC6FFBA23178D9C569CAE435020F, A39C4955A7F7B10AC4F27130DD752B19, 2013-08-07 08:40:00, VTS, CRD, 11.5, 0.0, 0.5, 1.5, 0.0, 13.5, GRANJA,MARIO,S, MEDALLION, CUR, 5C45A, 2FABP7AV6BX159297, DSE, 2011, NAMED DRIVER, 202, ALL TAXI MANAGEMENT INC, (718)361-0055, null, 41-25   36 STREET LIC NY 11101, 1/31/2015, 13:20               |\n",
      "|925FAAB0AEC05317DCD15C9EA48B26B3, 52DF74CF19155D44C87E64FF9E715F43, 2013-08-07 08:08:00, VTS, CRD, 52.0, 0.0, 0.5, 12.17, 5.33, 70.0, SINGH, MAKHAN, MEDALLION, CUR, 8C38A, 1FMCU4K33BKC06545, HYB, 2011, OWNER MUST DRIVE, 1, TIRU CABS , (718)937-2552, null, 10 METROTECH NEW YORK NY, 1/31/2015, 13:20                              |\n",
      "|91EDB0A9EEFD7D9169432897F12E4E8C, 8D7D2673DE080BF5538029FBF6F8A7F1, 2013-08-07 08:21:00, VTS, CRD, 35.5, 0.0, 0.5, 8.88, 0.0, 44.88, CHERILUS,EMMANUEL, MEDALLION, CUR, 6C12B, 4T1BD1FK7EU117467, HYB, 2014, OWNER MUST DRIVE, 202, ALL TAXI MANAGEMENT INC, (718)361-0055, null, 41-25   36 STREET LIC NY 11101, 1/31/2015, 13:20      |\n",
      "|971D2352AE8BFE3935B760BF7D1C4CCB, 4D9ACC75B1E9BBC50B9C6A4F7516D3F2, 2013-08-07 08:38:00, VTS, CRD, 11.0, 0.0, 0.5, 3.3, 0.0, 14.8, DUCLAIR, JEAN N., MEDALLION, CUR, 6C45J, 4T1BD1FK5CU027344, HYB, 2012, NAMED DRIVER, 314, L.I.C. TAXI MANAGEMENT INC., (718)361-0063, null, 37-28   30 STREET LIC NY 11101, 1/31/2015, 13:20         |\n",
      "|5F2EFC03B544635C9B0E7A4AA4FF9AC3, 346627CE27617A89EEA64DCE3E47EC95, 2013-08-07 08:34:00, VTS, CRD, 12.5, 0.0, 0.5, 2.5, 0.0, 15.5, MUI,CHUNG-KUEN, MEDALLION, CUR, 5C25B, 1FMCU4K38CKA85965, HYB, 2012, NAMED DRIVER, 253, QUEENS MEDALLION LEASING INC., (718)784-9292, null, 21-03   44 AVENUE LIC NY 11101, 1/31/2015, 13:20         |\n",
      "|570BEC6BE89198DB9643A0AAA144C434, 5CAC0315CB4F89D21BB0E4EB09B8A150, 2013-08-07 08:42:00, VTS, CRD, 10.0, 0.0, 0.5, 2.0, 0.0, 12.5, ZAKHARYAYEV, MARINA, MEDALLION, CUR, 5C31H, 4T1BD1FK6EU131117, HYB, 2014, NAMED DRIVER, 224, S & R MEDALLION CORP, (212)957-9200, null, 625 WEST   51 STREET NEW YORK NY 10019, 1/31/2015, 13:20     |\n",
      "|4E9B67DAEEF658D1B17E3B00A8A2EA71, E075BCAD8510454DCEF9036C63C10F45, 2013-08-07 08:40:00, VTS, CSH, 9.0, 0.0, 0.5, 0.0, 0.0, 9.5, CHAN,WING, MEDALLION, CUR, 5C27A, 1FMCU4K31CKB34925, HYB, 2012, NAMED DRIVER, 282, YELLOW CAB SLS JET MANAGEMENT CORP., (718)752-9097, null, 22-05   43 AVENUE LIC NY 11101, 1/31/2015, 13:20          |\n",
      "|F4BC9C108FC92F91F7546B4B480183F9, DCAD65EC4E38C2CA3CB0130F9F80E9AF, 2013-08-07 08:44:00, VTS, CRD, 7.0, 0.0, 0.5, 1.4, 0.0, 8.9, TOBIAS, KEITH, MEDALLION, CUR, 5C28H, 1FMCU49399KD02552, HYB, 2009, OWNER MUST DRIVE, 234, WOODSIDE MANAGEMENT INC., (718)899-9369, null, 49-13 ROOSEVELT AVENUE WOODSIDE NY 11377, 1/31/2015, 13:20   |\n",
      "|DDF66F69E5A985A19C1C60BF291F3B5E, CF79B79DE09A37B03C1C351F2FE3EF0F, 2013-08-07 08:35:00, VTS, CSH, 6.5, 0.0, 0.5, 0.0, 0.0, 7.0, PANCHHI, KARAMJIT, MEDALLION, CUR, 5C39A, 1FMCU4K38AKA35743, HYB, 2010, OWNER MUST DRIVE, 1, TIRU CABS , (718)937-2553, null, 10 METROTECH NEW YORK NY, 1/31/2015, 13:20                               |\n",
      "|127A741085EBCE8E9F7542514493BF62, 01B6FCB9F872D56949867EC1EF2F7640, 2013-08-07 08:35:00, VTS, CRD, 12.5, 0.0, 0.5, 2.5, 0.0, 15.5, AULOV, JOSIF, MEDALLION, CUR, 5C35C, 2FABP7AVXBX166091, CNG, 2011, NAMED DRIVER, 289, BOULEVARD TAXI LEASING INC, (718)932-3312, null, 32-56   49 STREET LIC NY 11103, 1/31/2015, 13:20              |\n",
      "|469C342BEF23F4A77887E09194BE394A, 97F900745308B53DE616A7F9D6F07D40, 2013-08-07 08:44:00, VTS, CRD, 14.0, 0.0, 0.5, 1.0, 0.0, 15.5, JACINTHE, FERNANDE, MEDALLION, CUR, 5C38A, 1FMCU4K39CKA37519, HYB, 2012, NAMED DRIVER, 307, TAXIFLEET MANAGEMENT LLC, (718)779-5000, null, 54-11 QUEENS BOULEVARD WOODSIDE NY 11377, 1/31/2015, 13:20|\n",
      "|8A93FA563AE2157142A9B509C7E67D6C, 751554CA3545682204A38C8F446AEAD4, 2013-08-07 08:39:00, VTS, CRD, 12.0, 0.0, 0.5, 2.0, 0.0, 14.5, DAVIDS, JULIUS B., MEDALLION, CUR, 5C36A, 1FMCU4K32BKB00281, HYB, 2011, NAMED DRIVER, 246, 28 STREET MANAGEMENT, INC., (212)244-6553, null, 313   10 AVENUE NY NY 10001, 1/31/2015, 13:20            |\n",
      "|673FB8D38798B9F5B7D586F070919B1D, 3DA8DE09D906A1DE05F242D923053941, 2013-08-07 08:37:00, VTS, CSH, 11.5, 0.0, 0.5, 0.0, 0.0, 12.0, ABEDIN,JOYNUL,M, MEDALLION, CUR, 204SBVJ, JN1AZ0CP1CT016815, NRML, 2012, NAMED DRIVER, 1, TIRU CABS , (718)937-2062, null, 10 METROTECH NEW YORK NY, 1/31/2015, 13:20                                |\n",
      "+----------------------------------------------------------------------------------------------------------------------------------------------------------------------------------------------------------------------------------------------------------------------------------------------------------------------------------------+\n",
      "only showing top 20 rows\n",
      "\n"
     ]
    }
   ],
   "source": [
    "sorted = spark.sql(\"select * from table2 order by medallion, hack_license, pickup_datetime asc\")\n",
    "fares = sorted.alias('fares')\n",
    "licenses = df3.alias('licenses')\n",
    "joined = fares.join(licenses, (fares.medallion == licenses.medallion))\n",
    "inner_join = joined.select(fares.medallion, joined.hack_license, joined.pickup_datetime, joined.vendor_id, joined.payment_type, joined.fare_amount, joined.surcharge, joined.mta_tax, joined.tip_amount, joined.tolls_amount, joined.total_amount, joined.name, joined.type, joined.current_status, joined.DMV_license_plate, joined.vehicle_VIN_number, joined.vehicle_type, joined.model_year, joined.medallion_type, joined.agent_number, joined.agent_name, joined.agent_telephone_number, joined.agent_website, joined.agent_address, joined.last_updated_date, joined.last_updated_time)\n",
    "inner_join.createOrReplaceTempView('table5')\n",
    "inner_join.select(format_string('%s, %s, %s, %s, %s, %s, %s, %s, %s, %s, %s, %s, %s, %s, %s, %s, %s, %s, %s, %s, %s, %s, %s, %s, %s, %s',inner_join.medallion, joined.hack_license, joined.pickup_datetime, joined.vendor_id, joined.payment_type, joined.fare_amount, joined.surcharge, joined.mta_tax, joined.tip_amount, joined.tolls_amount, joined.total_amount, joined.name, joined.type, joined.current_status, joined.DMV_license_plate, joined.vehicle_VIN_number, joined.vehicle_type, joined.model_year, joined.medallion_type, joined.agent_number, joined.agent_name, joined.agent_telephone_number, joined.agent_website, joined.agent_address, joined.last_updated_date, joined.last_updated_time).alias('Result')).write.save(\"task1b-sql.out\", format=\"text\")"
   ]
  },
  {
   "cell_type": "code",
   "execution_count": 98,
   "metadata": {},
   "outputs": [
    {
     "data": {
      "text/plain": [
       "[('00005007A9F30E289E760362F69E4EAD',\n",
       "  (('2C584442C9DC6740767CDE5672C12379',\n",
       "    'CMT',\n",
       "    '2013-08-06 23:44:12',\n",
       "    'CSH',\n",
       "    '4.0000000000',\n",
       "    '0.5000000000',\n",
       "    '0.5000000000',\n",
       "    '0.0000000000',\n",
       "    '0.0000000000',\n",
       "    '5.0000000000'),\n",
       "   ('PLANOS, INC.',\n",
       "    'MEDALLION',\n",
       "    'CUR',\n",
       "    '3G31C',\n",
       "    '2FABP7AV9BX153848',\n",
       "    'CNG',\n",
       "    '2011',\n",
       "    'NAMED DRIVER',\n",
       "    '304',\n",
       "    'FA  MANAGEMENT INC.',\n",
       "    '(718)204-9241',\n",
       "    '',\n",
       "    '11-06 BROADWAY ASTORIA NY 11106',\n",
       "    '1/31/2015',\n",
       "    '13:20'))),\n",
       " ('00005007A9F30E289E760362F69E4EAD',\n",
       "  (('2C584442C9DC6740767CDE5672C12379',\n",
       "    'CMT',\n",
       "    '2013-08-06 23:59:31',\n",
       "    'CSH',\n",
       "    '7.5000000000',\n",
       "    '0.5000000000',\n",
       "    '0.5000000000',\n",
       "    '0.0000000000',\n",
       "    '0.0000000000',\n",
       "    '8.5000000000'),\n",
       "   ('PLANOS, INC.',\n",
       "    'MEDALLION',\n",
       "    'CUR',\n",
       "    '3G31C',\n",
       "    '2FABP7AV9BX153848',\n",
       "    'CNG',\n",
       "    '2011',\n",
       "    'NAMED DRIVER',\n",
       "    '304',\n",
       "    'FA  MANAGEMENT INC.',\n",
       "    '(718)204-9241',\n",
       "    '',\n",
       "    '11-06 BROADWAY ASTORIA NY 11106',\n",
       "    '1/31/2015',\n",
       "    '13:20')))]"
      ]
     },
     "execution_count": 98,
     "metadata": {},
     "output_type": "execute_result"
    }
   ],
   "source": [
    "mapped = rdd2.map(lambda key: ((key[0]), (key[1], key[2], key[3], key[4], key[5], key[6], key[7], key[8], key[9], key[10])))\n",
    "mapped2 = rdd3.map(lambda y: ((y[0]), (y[1], y[2], y[3], y[4], y[5], y[6], y[7], y[8], y[9], y[10], y[11], y[12], y[13], y[14], y[15])))\n",
    "joined = mapped.join(mapped2)\n",
    "sorted1 = joined.sortBy(lambda x: (x[0], x[1][0]), True)\n",
    "sorted1.saveAsTextFile(\"task1b.out\")"
   ]
  },
  {
   "cell_type": "code",
   "execution_count": 38,
   "metadata": {},
   "outputs": [
    {
     "name": "stdout",
     "output_type": "stream",
     "text": [
      "0, 5, 273080 \n",
      " 5, 15, 1531192 \n",
      " 15, 30, 360200 \n",
      " 30, 50, 76906 \n",
      " 50, 100, 50897 \n",
      " 100, 918\n"
     ]
    }
   ],
   "source": [
    "filtered = spark.sql(\"select count(table4.medallion) as num_trips from table4 where fare_amount >= 0 and fare_amount <= 5\")\n",
    "filtered1 = spark.sql(\"select count(table4.medallion) as num_trips from table4 where fare_amount > 5 and fare_amount <= 15\")\n",
    "filtered2 = spark.sql(\"select count(table4.medallion) as num_trips from table4 where fare_amount > 15 and fare_amount <= 30\")\n",
    "filtered3 = spark.sql(\"select count(table4.medallion) as num_trips from table4 where fare_amount > 30 and fare_amount <= 50\")\n",
    "filtered4 = spark.sql(\"select count(table4.medallion) as num_trips from table4 where fare_amount > 50 and fare_amount <= 100\")\n",
    "filtered5 = spark.sql(\"select count(table4.medallion) as num_trips from table4 where fare_amount > 100\")\n",
    "result = \"0, 5, {0} \\n 5, 15, {1} \\n 15, 30, {2} \\n 30, 50, {3} \\n 50, 100, {4} \\n 100, {5}\".format(filtered.collect()[0][0], filtered1.collect()[0][0], filtered2.collect()[0][0], filtered3.collect()[0][0], filtered4.collect()[0][0], filtered5.collect()[0][0])\n",
    "save = sc.parallelize(result)\n",
    "save.saveAsTextFile(\"task2a-sql.out\")"
   ]
  },
  {
   "cell_type": "code",
   "execution_count": 46,
   "metadata": {
    "scrolled": true
   },
   "outputs": [
    {
     "name": "stdout",
     "output_type": "stream",
     "text": [
      "0, 5, 273080 \n",
      " 5, 15, 1531192 \n",
      " 15, 30, 360200 \n",
      " 30, 50, 76906 \n",
      " 50, 100, 50897 \n",
      " 100, 918\n"
     ]
    }
   ],
   "source": [
    "range = sorted.filter(lambda x: (float(x[1][1][1]) >= 0 and float(x[1][1][1]) <= 5))\n",
    "range1 = sorted.filter(lambda x: (float(x[1][1][1]) > 5 and float(x[1][1][1]) <= 15))\n",
    "range2 = sorted.filter(lambda x: (float(x[1][1][1]) > 15 and float(x[1][1][1]) <= 30))\n",
    "range3 = sorted.filter(lambda x: (float(x[1][1][1]) > 30 and float(x[1][1][1]) <= 50))\n",
    "range4 = sorted.filter(lambda x: (float(x[1][1][1]) > 50 and float(x[1][1][1]) <= 100))\n",
    "range5 = sorted.filter(lambda x: (float(x[1][1][1]) > 100))\n",
    "result = \"0, 5, {0} \\n 5, 15, {1} \\n 15, 30, {2} \\n 30, 50, {3} \\n 50, 100, {4} \\n 100, {5}\".format(range.count(), range1.count(), range2.count(), range3.count(), range4.count(), range5.count())\n",
    "save = sc.parallelize(result)\n",
    "save.saveAsTextFile(\"task2a.out\")"
   ]
  },
  {
   "cell_type": "code",
   "execution_count": 49,
   "metadata": {},
   "outputs": [
    {
     "name": "stdout",
     "output_type": "stream",
     "text": [
      "+----------+\n",
      "|Result    |\n",
      "+----------+\n",
      "|1, 1691674|\n",
      "|2, 309238 |\n",
      "|3, 97031  |\n",
      "|4, 53465  |\n",
      "|5, 83910  |\n",
      "|6, 58289  |\n",
      "|8, 1      |\n",
      "+----------+\n",
      "\n"
     ]
    }
   ],
   "source": [
    "filtered = spark.sql(\"select passenger_count, count(medallion ) as num_trips from table4 group by passenger_count order by passenger_count asc\")\n",
    "result = filtered.select(format_string('%s, %s', filtered.passenger_count, filtered.num_trips).alias(\"Result\"))\n",
    "result.write.save(\"task2b-sql.out\", format=\"text\")"
   ]
  },
  {
   "cell_type": "code",
   "execution_count": 52,
   "metadata": {
    "scrolled": true
   },
   "outputs": [
    {
     "data": {
      "text/plain": [
       "[('1', 1691674),\n",
       " ('2', 309238),\n",
       " ('3', 97031),\n",
       " ('4', 53465),\n",
       " ('5', 83910),\n",
       " ('6', 58289),\n",
       " ('8', 1)]"
      ]
     },
     "execution_count": 52,
     "metadata": {},
     "output_type": "execute_result"
    }
   ],
   "source": [
    "mapped = sorted.map(lambda x: ((x[1][0][3]), x[0][0]))\n",
    "mapped.groupByKey().mapValues(len).sortByKey().saveAsTextFile(\"task2b.out\")"
   ]
  },
  {
   "cell_type": "code",
   "execution_count": 58,
   "metadata": {},
   "outputs": [
    {
     "name": "stdout",
     "output_type": "stream",
     "text": [
      "+---------------------------------+\n",
      "|Result                           |\n",
      "+---------------------------------+\n",
      "|08/01/2013, 4342019.99, 73060.70 |\n",
      "|08/02/2013, 3351559.36, 61214.54 |\n",
      "|08/03/2013, 3027483.82, 41847.17 |\n",
      "|08/04/2013, 2914129.17, 58840.40 |\n",
      "|08/05/2013, 5792022.94, 125630.00|\n",
      "|08/06/2013, 6244012.62, 113876.93|\n",
      "|08/07/2013, 6573878.89, 123809.01|\n",
      "+---------------------------------+\n",
      "\n"
     ]
    }
   ],
   "source": [
    "filtered = spark.sql(\"select Cast(pickup_datetime as DATE) as fulldate, cast(sum(fare_amount + surcharge + tip_amount) as DECIMAL(9,2)) as total_revenue, cast(sum(tolls_amount) as DECIMAL(8,2)) as total_tolls from table4 group by Cast(pickup_datetime as DATE) order by Cast(pickup_datetime as DATE), total_revenue, total_tolls asc\")\n",
    "new = filtered.select(date_format(col(\"fulldate\"), \"MM/dd/YYYY\").alias(\"Date\"), filtered.total_revenue, filtered.total_tolls)\n",
    "new.select(format_string('%s, %s, %s', new.Date, new.total_revenue, new.total_tolls).alias(\"Result\")).write.save(\"task2c-sql.out\", format=\"text\")"
   ]
  },
  {
   "cell_type": "code",
   "execution_count": 63,
   "metadata": {
    "scrolled": false
   },
   "outputs": [
    {
     "data": {
      "text/plain": [
       "[('08/01/2013', (4342019.99, 73060.7)),\n",
       " ('08/02/2013', (3351559.36, 61214.54)),\n",
       " ('08/03/2013', (3027483.82, 41847.17)),\n",
       " ('08/04/2013', (2914129.17, 58840.4)),\n",
       " ('08/05/2013', (5792022.94, 125630.0)),\n",
       " ('08/06/2013', (6244012.62, 113876.93)),\n",
       " ('08/07/2013', (6573878.89, 123809.01))]"
      ]
     },
     "execution_count": 63,
     "metadata": {},
     "output_type": "execute_result"
    }
   ],
   "source": [
    "mapped = sorted.map(lambda x: ((datetime.strptime(x[0][3], \"%Y-%m-%d %H:%M:%S\")), (float(x[1][1][1]) + float(x[1][1][2]) + float(x[1][1][4]), float(x[1][1][5]))))\n",
    "mapped1 = mapped.map(lambda x: ((x[0].strftime(\"%m/%d/%Y\")), (x[1][0], x[1][1])))\n",
    "result = mapped1.reduceByKey(lambda x, y: (round(x[0] + y[0], 2), round(x[1] + y[1], 2))).sortByKey()\n",
    "result.saveAsTextFile(\"task2c.out\")"
   ]
  },
  {
   "cell_type": "code",
   "execution_count": 64,
   "metadata": {},
   "outputs": [
    {
     "name": "stdout",
     "output_type": "stream",
     "text": [
      "+-----------------------------------------------+\n",
      "|result                                         |\n",
      "+-----------------------------------------------+\n",
      "|1E8EDF1C2EF489B7AB3712977C7C08B5, 123, 4, 30.75|\n",
      "|B2B089B939CB4A0A64D42CBFC74059BD, 163, 4, 40.75|\n",
      "|4E8142153D6520C415A644671066AA97, 86, 4, 21.50 |\n",
      "|9B69C5971F62F151BB1C412B35090015, 253, 7, 36.14|\n",
      "|47D63452A91E1705FE73C7510F1DDCF7, 307, 7, 43.86|\n",
      "|18DDC049CC26AE3AABB4C08C59374EFB, 45, 4, 11.25 |\n",
      "|7D4F34EF0A251F3A6A8DF3CE4A098B8C, 181, 7, 25.86|\n",
      "|C0D5941A4A93777E96210EBD9DCAEC95, 195, 7, 27.86|\n",
      "|618BB39CEEAE5E9A6D886E20E005DCA2, 79, 4, 19.75 |\n",
      "|72EAFBA3FB9F0507C671AD713A622FB6, 115, 4, 28.75|\n",
      "|27E7626D5A223B47957D82B66E7BD262, 159, 7, 22.71|\n",
      "|15162141EA7436635C696F5BC023D2D6, 258, 7, 36.86|\n",
      "|59DF6039EC312EE6DAE98E8DF115A679, 138, 4, 34.50|\n",
      "|DB1964B903773868E191176E8EF47946, 86, 3, 28.67 |\n",
      "|35B2F21FAF5E53F1EB17848E7DC82055, 203, 7, 29.00|\n",
      "|E7C49B0A85D992BF1F5659C160B7FD7F, 234, 7, 33.43|\n",
      "|496036713FC662D7165AF3CE796FCAAA, 79, 4, 19.75 |\n",
      "|73F27D8C8C3B37D0453DA416BF8DAF44, 161, 7, 23.00|\n",
      "|36372627462019376C639E270076E599, 189, 7, 27.00|\n",
      "|EB6F0753E865DA0ABA7B249F4B8CF51E, 95, 4, 23.75 |\n",
      "+-----------------------------------------------+\n",
      "only showing top 20 rows\n",
      "\n"
     ]
    }
   ],
   "source": [
    "filtered = spark.sql(\"select medallion, cast(pickup_datetime as DATE) as days_driven, count(pickup_datetime) as total_trips from table4 where passenger_count > 0 group by medallion, days_driven\")\n",
    "filtered.createOrReplaceTempView(\"table6\")\n",
    "new = spark.sql(\"select medallion, count(days_driven) as days, sum(total_trips) as totals from table6 group by medallion\")\n",
    "new.createOrReplaceTempView(\"table7\")\n",
    "result = spark.sql(\"select medallion, totals as total_trips, days as days_driven, cast(totals/days as DECIMAL(4,2)) as average from table7\")\n",
    "result.select(format_string('%s, %s, %s, %s', result.medallion, result.total_trips, result.days_driven, result.average).alias(\"result\")).write.save(\"task2d-sql.out\", format=\"text\")"
   ]
  },
  {
   "cell_type": "code",
   "execution_count": 67,
   "metadata": {
    "scrolled": true
   },
   "outputs": [
    {
     "data": {
      "text/plain": [
       "[('049AA6C216DCA918917AB24189DAF99D', 280, 7, 40.0),\n",
       " ('0654DD90E7D0F7F266837C94CCB65825', 150, 6, 25.0),\n",
       " ('08E54F4C460720DDE43460E354486FBC', 195, 7, 27.86),\n",
       " ('091334CDF9A2292C04B6AF20AC219660', 105, 4, 26.25),\n",
       " ('0923CB4C0071D475AB0B4519B8B2F4F8', 310, 7, 44.29),\n",
       " ('096ACCFC956CC07673EC193B24DAAA3E', 113, 4, 28.25),\n",
       " ('0B10381B3ADC2120244F34E1FEA0A008', 236, 7, 33.71),\n",
       " ('0B84045AE4809A95A32F796400C8B403', 138, 4, 34.5),\n",
       " ('0BD37C7056571AE5F89306C78A733C79', 59, 3, 19.67),\n",
       " ('0BECD68D5362BE504DFC27A0F914DDAA', 247, 7, 35.29)]"
      ]
     },
     "execution_count": 67,
     "metadata": {},
     "output_type": "execute_result"
    }
   ],
   "source": [
    "filtered = sorted.map(lambda x: ((x[0][0]), x[0][3]))\n",
    "mapped = filtered.groupByKey().mapValues(len).sortByKey()\n",
    "new = filtered.map(lambda x: ((x[0]), datetime.strptime(x[1], \"%Y-%m-%d %H:%M:%S\")))\n",
    "filtered2 = new.map(lambda x: ((x[0], x[1].strftime(\"%d/%m/%Y\")), 1))\n",
    "tmp = filtered2.reduceByKey(lambda x, y: x + y)\n",
    "mapped2 = tmp.map(lambda x: ((x[0][0]), x[0][1])).groupByKey().mapValues(len)\n",
    "joined = mapped.join(mapped2)\n",
    "result = joined.map(lambda x: (x[0], x[1][0], x[1][1], round(float(x[1][0])/float(x[1][1]), 2)))\n",
    "result.saveAsTextFile(\"task2d.out\")"
   ]
  },
  {
   "cell_type": "code",
   "execution_count": 68,
   "metadata": {},
   "outputs": [
    {
     "name": "stdout",
     "output_type": "stream",
     "text": [
      "+-----------------+\n",
      "|num_invalid_trips|\n",
      "+-----------------+\n",
      "|              415|\n",
      "+-----------------+\n",
      "\n"
     ]
    }
   ],
   "source": [
    "filtered = spark.sql(\"select count(pickup_datetime) as num_invalid_trips from table4 where fare_amount < 0\")\n",
    "filteredwrite.save(\"task3a-sql.out\", format=\"text\")"
   ]
  },
  {
   "cell_type": "code",
   "execution_count": 70,
   "metadata": {},
   "outputs": [
    {
     "name": "stdout",
     "output_type": "stream",
     "text": [
      "415\n"
     ]
    }
   ],
   "source": [
    "filtered = sorted.filter(lambda x: float(x[1][1][1]) < 0).map(lambda x: x[0][3])\n",
    "result = filtered.map(lambda x: 1).reduce(lambda x, y: x+y)\n",
    "save = sc.parallelize(result)\n",
    "save.saveAsTextFile(\"task3a.out\")"
   ]
  },
  {
   "cell_type": "code",
   "execution_count": 71,
   "metadata": {},
   "outputs": [
    {
     "name": "stdout",
     "output_type": "stream",
     "text": [
      "+--------------------------------------------------------+\n",
      "|Result                                                  |\n",
      "+--------------------------------------------------------+\n",
      "|A2CF7F240874DF15FE3EB68414ABF1DC, 2013-08-07 16:08:00, 4|\n",
      "|351E1091AB0ADB554152A55BBA66E4ED, 2013-08-06 09:53:00, 4|\n",
      "|A44E3AAB61400E932DAF086634E19685, 2013-08-05 18:50:00, 4|\n",
      "|BC3A3D1BECC84F0FAAEAC0F725FC221E, 2013-08-01 06:31:00, 4|\n",
      "|DBA03C39ED8C744C7624D3E40E88893D, 2013-08-07 22:41:00, 4|\n",
      "|954098685214C4B5150E5CC130812936, 2013-08-07 19:02:00, 4|\n",
      "|230FBEE57EBAF0D85F5F13DFDD66B181, 2013-08-05 21:13:00, 4|\n",
      "|A2CF7F240874DF15FE3EB68414ABF1DC, 2013-08-07 12:09:00, 4|\n",
      "|F23DDD7B961109E4EB194F3F7AF20F7D, 2013-08-05 15:32:00, 4|\n",
      "|2B8A6A227F262737D21F9E93B2FA0D65, 2013-08-05 15:49:00, 4|\n",
      "|7219E4C7C68C04DCCCFBA39D793AC641, 2013-08-06 15:22:00, 4|\n",
      "|EE9FB7759494B99129A19BE5058F94B8, 2013-08-05 06:11:00, 4|\n",
      "|EBED0E655DDFA52D3F86B7B0D9CD41C5, 2013-08-07 01:08:00, 4|\n",
      "|77EC6F21C85B637CC42BB997841E11A6, 2013-08-05 15:15:00, 4|\n",
      "|2940293F90E9249E157EEE5F42B9C189, 2013-08-05 10:45:00, 4|\n",
      "|9A8A9BB52D429B491DF9CDF1D5E0877A, 2013-08-07 09:05:00, 4|\n",
      "|01D13A056D9A26F84C328DFDD5534B55, 2013-08-06 20:55:00, 4|\n",
      "|3F37D37A4F08BE8E242076A75641C4D2, 2013-08-06 18:54:00, 4|\n",
      "|E5018BD908BDABB9213131D8BB0FAE5E, 2013-08-06 20:09:00, 4|\n",
      "|8BB44C8B56939C6D2399DAD321ED26BD, 2013-08-06 06:31:00, 4|\n",
      "+--------------------------------------------------------+\n",
      "only showing top 20 rows\n",
      "\n"
     ]
    }
   ],
   "source": [
    "filtered = spark.sql(\"select medallion, pickup_datetime, count(*) as repeats from table4 group by medallion, pickup_datetime having count(*) > 1\")\n",
    "result = filtered.select(format_string('%s, %s, %s', filtered.medallion, filtered.pickup_datetime, filtered.repeats).alias(\"Result\"))\n",
    "result.write.save(\"task3b-sql.out\", format=\"text\")"
   ]
  },
  {
   "cell_type": "code",
   "execution_count": 73,
   "metadata": {},
   "outputs": [
    {
     "data": {
      "text/plain": [
       "[(('5493A58B275E12A44971656845F86B93', '2013-08-05 21:06:00'), 4),\n",
       " (('5F799475358AF4726C2178539F24A91C', '2013-08-06 17:31:00'), 2),\n",
       " (('696A7ECC869379ED31033CC897A42BFC', '2013-08-05 05:39:00'), 4),\n",
       " (('6D9CCBF092BDC6CA596C54FA13C98B79', '2013-08-05 14:02:00'), 4),\n",
       " (('7B501672204EB6B8777CE5C16296AC66', '2013-08-03 23:11:10'), 4),\n",
       " (('94E81376D0E03B9A4CD02D98728AAFD2', '2013-08-06 18:11:00'), 4),\n",
       " (('954098685214C4B5150E5CC130812936', '2013-08-07 19:02:00'), 4),\n",
       " (('A2CF7F240874DF15FE3EB68414ABF1DC', '2013-08-07 17:07:00'), 4),\n",
       " (('CE22FDCE2D5845CF3E562173084FFE99', '2013-08-05 18:15:00'), 4),\n",
       " (('D46130EEE58952844E13AE96E6A44362', '2013-08-05 21:15:00'), 4)]"
      ]
     },
     "execution_count": 73,
     "metadata": {},
     "output_type": "execute_result"
    }
   ],
   "source": [
    "mapped = sorted.map(lambda x: ((x[0][0], x[0][3]), x[1][1][1]))\n",
    "reduced = mapped.map(lambda x: ((x[0][0], x[0][1]), 1)).reduceByKey(lambda x, y: x+y)\n",
    "result = reduced.filter(lambda x: x[1] > 1)\n",
    "result.saveAsTextFile(\"task3b.out\")"
   ]
  },
  {
   "cell_type": "code",
   "execution_count": 76,
   "metadata": {},
   "outputs": [
    {
     "name": "stdout",
     "output_type": "stream",
     "text": [
      "+----------------------------------------+\n",
      "|result                                  |\n",
      "+----------------------------------------+\n",
      "|18DDC049CC26AE3AABB4C08C59374EFB, 4.44% |\n",
      "|35E11D9D2AE5C8A80261CF6A309BD9FD, 45.55%|\n",
      "|4E8142153D6520C415A644671066AA97, 97.67%|\n",
      "|5CCB4924B158F945B1792BCD0FB16F5C, 1.3%  |\n",
      "|753BC0484097BB236807E896DC2241DF, 1.89% |\n",
      "|7550D0BD520A691EC058F3C44FCEE2C0, 0.93% |\n",
      "|963BEE5F306952D20A2DB2BE7B166205, 0.61% |\n",
      "|A02946A94C960AF041A251269D57C0B4, 0.63% |\n",
      "|A8608B0C1235FCEB98A71197646FB3D9, 3.33% |\n",
      "|ADFCF211DDD6D788567104FF7B605626, 6.86% |\n",
      "|EB6F0753E865DA0ABA7B249F4B8CF51E, 1.05% |\n",
      "|ED9B774735449ABBE4FE4062765C21CF, 2.27% |\n",
      "|EF882BDAF03D4151746F1A5A235FC454, 2.63% |\n",
      "|38369565598C05AD61BFE7E83BF72382, 1.05% |\n",
      "|552CCF061B871F7179CC0357086CB42C, 1.09% |\n",
      "|D50F5974294A3AC413B8291806D46433, 2.6%  |\n",
      "|F0581E1A2A56A5917506660C8FFA7878, 1.18% |\n",
      "|03F2B14F5C52CC104530F0C895AA750C, 0.96% |\n",
      "|1087DFA00B5B8DBBDEFD0D32D5E8E0C3, 4.41% |\n",
      "|14B6352E4AC7C4732A518085AF4253DD, 4.55% |\n",
      "+----------------------------------------+\n",
      "only showing top 20 rows\n",
      "\n"
     ]
    }
   ],
   "source": [
    "filtered = spark.sql(\"select medallion, count(pickup_datetime) as total_trips from table4 where passenger_count > 0 group by medallion\")\n",
    "filtered2 = spark.sql(\"select medallion, count(pickup_datetime) as errors from table4 where pickup_latitude = 0 and pickup_longitude = 0 and dropoff_latitude = 0 and dropoff_longitude = 0 group by medallion\")\n",
    "joined = filtered.join(filtered2, filtered.medallion == filtered2.medallion)\n",
    "result = joined.select(filtered.medallion, ((joined.errors/joined.total_trips)*100).alias('percentage'))\n",
    "rounded = result.select(col(\"medallion\"), round(col(\"percentage\"), 2).alias(\"percentage\"))\n",
    "output = rounded.select(format_string('%s, %s%%', rounded.medallion, rounded.percentage).alias(\"result\"))\n",
    "output.write.save(\"task3c-sql.out\", format=\"text\")"
   ]
  },
  {
   "cell_type": "code",
   "execution_count": 89,
   "metadata": {},
   "outputs": [
    {
     "data": {
      "text/plain": [
       "[('024BE2DFD1B98AF1EA941DEDA63A15CB', '1.2738853503184715%'),\n",
       " ('03440BEC1C3E0DA656A6091A3CF58261', '0.7299270072992701%'),\n",
       " ('096ACCFC956CC07673EC193B24DAAA3E', '2.6548672566371683%'),\n",
       " ('0B84045AE4809A95A32F796400C8B403', '0.7246376811594203%'),\n",
       " ('0D0D2A78F5C539728E2DCAD4FD6B8AD8', '0.8771929824561403%'),\n",
       " ('0DF80FDB0E48E1A2534EE0F509BC66FB', '0.5988023952095809%'),\n",
       " ('0E3841C1B577163D9741C5D01354711A', '0.7407407407407408%'),\n",
       " ('1087DFA00B5B8DBBDEFD0D32D5E8E0C3', '4.411764705882353%'),\n",
       " ('129EB1CA344C038A54D157CB14D346FA', '0.6578947368421052%'),\n",
       " ('150C6FAFC492F855EB78C13224D0A3D2', '0.8849557522123894%')]"
      ]
     },
     "execution_count": 89,
     "metadata": {},
     "output_type": "execute_result"
    }
   ],
   "source": [
    "filtered = sorted.map(lambda x: ((x[0][0]), x[0][3]))\n",
    "reduced = filtered.map(lambda x: ((x[0]), 1)).reduceByKey(lambda x, y: x+y)\n",
    "filtered1 = sorted.filter(lambda x: float(x[1][0][6]) == 0 and float(x[1][0][7]) == 0 and float(x[1][0][8]) == 0 and float(x[1][0][9]) == 0)\n",
    "reduced1 = filtered1.map(lambda x: ((x[0][0]), 1)).reduceByKey(lambda x, y: x+y)\n",
    "joined = reduced.join(reduced1)\n",
    "result = joined.map(lambda x: ((x[0]), ((x[1][1]/x[1][0])*100)))\n",
    "result1 = result.map(lambda x: (x[0], str(x[1]) + '%'))\n",
    "result1.saveAsTextFile(\"task3c.out\")"
   ]
  },
  {
   "cell_type": "code",
   "execution_count": 90,
   "metadata": {},
   "outputs": [
    {
     "name": "stdout",
     "output_type": "stream",
     "text": [
      "+-----------------------------------+\n",
      "|result                             |\n",
      "+-----------------------------------+\n",
      "|69996930170E51265187F2D360A2366D, 7|\n",
      "|44D39A75B5BADD81E99EFE7B99011E4C, 1|\n",
      "|3F0CD6765AAD1E5834B1C5AE2C6B3B81, 1|\n",
      "|6AE65C80B9BE7F24379AAB6F84A2C94E, 7|\n",
      "|AFD2B319B2455F67B1C59E32921690CF, 1|\n",
      "|6CDB6B9814FAE69A29CD7082D7798F56, 3|\n",
      "|5974CCF68C5164D3AB2873F038F5A377, 1|\n",
      "|A678389B143C4526FE30CA94461BAA2D, 1|\n",
      "|B5BCB66CBBD83D9D1E84351D9D4B0EA3, 4|\n",
      "|CE6105A23A0AC634E1199DDAAC13E75D, 5|\n",
      "|9911D66A4A796752DAA9929262692322, 5|\n",
      "|A7C47E60941315A0E1B18190584F1B8F, 1|\n",
      "|F41C758E0A9022F59C72F73D1359FD9A, 3|\n",
      "|0EB70D3B3BE040DAF5D0E6C15E8119FD, 4|\n",
      "|594CE5F6F9FBFB980D7699D67F2729F5, 4|\n",
      "|C5D797C03D817ED5EE0361221C783680, 2|\n",
      "|DD97899ACAC51EF3188A659DB1F4EDBB, 1|\n",
      "|EFA12B2F45FC838E19795CA997E26FFA, 1|\n",
      "|D4F2AE0988ECB2E421AAC0C876483801, 1|\n",
      "|1700002963A49DA13542E0726B7BB758, 1|\n",
      "+-----------------------------------+\n",
      "only showing top 20 rows\n",
      "\n"
     ]
    }
   ],
   "source": [
    "filtered = spark.sql(\"select hack_license, medallion from table4 group by hack_license, medallion\")\n",
    "filtered.createOrReplaceTempView(\"table8\")\n",
    "result = spark.sql(\"select hack_license, count(medallion) as num_taxis_used from table8 group by hack_license\")\n",
    "output = result.select(format_string('%s, %s', result.hack_license, result.num_taxis_used).alias(\"result\"))\n",
    "output.write.save(\"task3d-sql.out\", format=\"text\")"
   ]
  },
  {
   "cell_type": "code",
   "execution_count": 91,
   "metadata": {},
   "outputs": [
    {
     "data": {
      "text/plain": [
       "[('0002555BBE359440D6CEB34B699D3932', 1),\n",
       " ('0006C8F9279EFD18D8E70193D98499CB', 1),\n",
       " ('0008B3E338CE8C3377E071A4D80D3694', 5),\n",
       " ('000A4EBF1CEB9C6BD9978D4362493C6E', 1),\n",
       " ('000B8D660A329BBDBF888500E4BD8B98', 4),\n",
       " ('000C15EFBDF58CAED528C09E597484EC', 7),\n",
       " ('000CCA239BFDC0ABE2895AC9086C4290', 1),\n",
       " ('0011B1575B9F5398BBC0F27EA560D631', 3),\n",
       " ('0012175D1505490267F025EAD9416CDD', 1),\n",
       " ('0012703023AC1788D34F6694908900FC', 1)]"
      ]
     },
     "execution_count": 91,
     "metadata": {},
     "output_type": "execute_result"
    }
   ],
   "source": [
    "mapped = sorted.map(lambda x: ((x[0][1], x[0][0]), 1)).groupByKey()\n",
    "mapped2 = mapped.map(lambda x: ((x[0][0]), x[0][1]))\n",
    "result = mapped2.map(lambda x: ((x[0]), 1)).reduceByKey(lambda x, y: x+y).sortByKey()\n",
    "result.saveAsTextFile(\"task3d.out\")"
   ]
  },
  {
   "cell_type": "code",
   "execution_count": 95,
   "metadata": {},
   "outputs": [
    {
     "name": "stdout",
     "output_type": "stream",
     "text": [
      "+---------------------------------+\n",
      "|result                           |\n",
      "+---------------------------------+\n",
      "|NRML, 75094, 933208.19, 11.01%   |\n",
      "|HYB, 1523653, 18827047.15, 11.84%|\n",
      "|LV1, 289979, 3565508.47, 11.03%  |\n",
      "|CNG, 110224, 1356108.18, 11.12%  |\n",
      "|DSE, 155542, 1908022.79, 11.02%  |\n",
      "|WAV, 138641, 1714587.58, 11.02%  |\n",
      "+---------------------------------+\n",
      "\n"
     ]
    }
   ],
   "source": [
    "result = spark.sql(\"select vehicle_type, count(pickup_datetime) as total_trips, sum(fare_amount) as total_revenue, sum(tip_amount/fare_amount) as avg_tip_percentage from table5 group by vehicle_Type\")\n",
    "result.createOrReplaceTempView('table9')\n",
    "result1 = spark.sql(\"select vehicle_type, total_trips, cast(total_revenue as DECIMAL(10,2)), cast((avg_tip_percentage * 100)/total_trips as DECIMAL(4,2)) as avg_tip_percentage from table9\")\n",
    "output = result1.select(format_string('%s, %s, %s, %s%%', result1.vehicle_type, result1.total_trips, result1.total_revenue, result1.avg_tip_percentage).alias(\"result\"))\n",
    "output.write.save(\"task4a-sql.out\", format=\"text\")"
   ]
  },
  {
   "cell_type": "code",
   "execution_count": 101,
   "metadata": {},
   "outputs": [
    {
     "data": {
      "text/plain": [
       "[('HYB', 1522776, 18829377.4, '11.841343700112764%'),\n",
       " ('LV1', 289857, 3566022.9699999997, '11.036699201835782%'),\n",
       " ('WAV', 138578, 1714587.5799999998, '11.026264390729738%'),\n",
       " ('DSE', 155456, 1908340.79, '11.022648539991012%'),\n",
       " ('CNG', 110172, 1356270.1800000002, '11.127481353127704%'),\n",
       " ('NRML', 75053, 933374.6900000001, '11.018312634174759%')]"
      ]
     },
     "execution_count": 101,
     "metadata": {},
     "output_type": "execute_result"
    }
   ],
   "source": [
    "mapped = sorted1.map(lambda x: ((x[1][1][5]), (x[1][0][2], x[1][0][4], x[1][0][7])))\n",
    "result = mapped.filter(lambda x: float(x[1][1]) > 0).map(lambda x: ((x[0]), (1, x[1][1], float(x[1][2])/float(x[1][1]))))\n",
    "result1 = result.reduceByKey(lambda x, y: (x[0] + y[0], float(x[1]) + float(y[1]), x[2] + y[2]))\n",
    "result2 = result1.map(lambda x: ((x[0]), (x[1][0], x[1][1], (x[1][2]*100)/x[1][0])))\n",
    "final_result = result2.map(lambda x: (x[0], x[1][0], x[1][1], str(x[1][2]) + '%'))\n",
    "final_result.saveAsTextFile(\"task4a.out\")"
   ]
  },
  {
   "cell_type": "code",
   "execution_count": 102,
   "metadata": {},
   "outputs": [
    {
     "name": "stdout",
     "output_type": "stream",
     "text": [
      "+--------------------------------------------+\n",
      "|result                                      |\n",
      "+--------------------------------------------+\n",
      "|NAMED DRIVER, 1610809, 19910259.14, 11.14%  |\n",
      "|OWNER MUST DRIVE, 682324, 8394223.22, 12.57%|\n",
      "+--------------------------------------------+\n",
      "\n"
     ]
    }
   ],
   "source": [
    "result = spark.sql(\"select medallion_type, count(pickup_datetime) as total_trips, sum(fare_amount) as total_revenue, sum(tip_amount/fare_amount) as avg_tip_percentage from table5 group by medallion_type\")\n",
    "result.createOrReplaceTempView('table10')\n",
    "result1 = spark.sql(\"select medallion_type, total_trips, cast(total_revenue as DECIMAL(10,2)), cast((avg_tip_percentage * 100)/total_trips as DECIMAL(4,2)) as avg_tip_percentage from table10\")\n",
    "output = result1.select(format_string('%s, %s, %s, %s%%', result1.medallion_type, result1.total_trips, result1.total_revenue, result1.avg_tip_percentage).alias(\"result\"))\n",
    "output.write.save(\"task4b-sql.out\", format=\"text\")"
   ]
  },
  {
   "cell_type": "code",
   "execution_count": 105,
   "metadata": {},
   "outputs": [
    {
     "data": {
      "text/plain": [
       "[('OWNER MUST DRIVE', 682057, 8394533.72, '12.57156221334995%'),\n",
       " ('NAMED DRIVER', 1609835, 19913439.890000004, '11.150636753592384%')]"
      ]
     },
     "execution_count": 105,
     "metadata": {},
     "output_type": "execute_result"
    }
   ],
   "source": [
    "mapped = sorted1.map(lambda x: ((x[1][1][7]), (x[1][0][2], x[1][0][4], x[1][0][7])))\n",
    "mapped1 = mapped.filter(lambda x: float(x[1][1]) > 0).map(lambda x: ((x[0]), (1, x[1][1], float(x[1][2])/float(x[1][1]))))\n",
    "result = mapped1.reduceByKey(lambda x, y: (x[0] + y[0], float(x[1]) + float(y[1]), x[2] + y[2]))\n",
    "result1 = result.map(lambda x: ((x[0]), (x[1][0], x[1][1], (x[1][2]*100)/x[1][0])))\n",
    "final_result = result1.map(lambda x: (x[0], x[1][0], x[1][1], str(x[1][2]) + '%'))\n",
    "final_result.saveAsTextFile(\"task4b.out\")"
   ]
  },
  {
   "cell_type": "code",
   "execution_count": 106,
   "metadata": {},
   "outputs": [
    {
     "name": "stdout",
     "output_type": "stream",
     "text": [
      "+----------------------------------------+\n",
      "|result                                  |\n",
      "+----------------------------------------+\n",
      "|TIRU CABS , 9133120.05                  |\n",
      "|ALL TAXI MANAGEMENT INC, 1672496.60     |\n",
      "|TAXIFLEET MANAGEMENT LLC, 1356816.24    |\n",
      "|GOTHAM YELLOW LLC, 982246.11            |\n",
      "|TEAM SYSTEMS CORP, 797958.41            |\n",
      "|WOODSIDE MANAGEMENT INC., 770086.90     |\n",
      "|OLA CABS, 764637.16                     |\n",
      "|WHITE AND BLUE GROUP CORP., 666874.38   |\n",
      "|MC GUINNESS MANAGEMENT CORP, 652309.60  |\n",
      "|EXECUTIVE OWNERS HOLDING CORP, 617902.69|\n",
      "+----------------------------------------+\n",
      "\n"
     ]
    }
   ],
   "source": [
    "filtered = spark.sql(\"select agent_name, cast(sum(fare_amount) as DECIMAL(9,2)) as total_revenue from table5 group by agent_name order by total_revenue desc, agent_name limit 10\")\n",
    "output = filtered.select(format_string('%s, %s', filtered.agent_name, filtered.total_revenue).alias(\"result\"))\n",
    "output.write.save(\"task4c-sql.out\", format=\"text\")"
   ]
  },
  {
   "cell_type": "code",
   "execution_count": 109,
   "metadata": {},
   "outputs": [
    {
     "data": {
      "text/plain": [
       "[('TIRU CABS ', 9133726.8),\n",
       " ('ALL TAXI MANAGEMENT INC', 1672914.6000000003),\n",
       " ('TAXIFLEET MANAGEMENT LLC', 1357119.24),\n",
       " ('GOTHAM YELLOW LLC', 982382.61),\n",
       " ('TEAM SYSTEMS CORP', 798033.91),\n",
       " ('WOODSIDE MANAGEMENT INC.', 770133.9000000001),\n",
       " ('OLA CABS', 764641.16),\n",
       " ('WHITE AND BLUE GROUP CORP.', 667061.8800000001),\n",
       " ('MC GUINNESS MANAGEMENT CORP', 652367.1),\n",
       " ('EXECUTIVE OWNERS HOLDING CORP', 617928.19)]"
      ]
     },
     "execution_count": 109,
     "metadata": {},
     "output_type": "execute_result"
    }
   ],
   "source": [
    "output = sorted1.map(lambda x: ((x[1][1][9]), (x[1][0][4])))\n",
    "filtered = output.filter(lambda x: float(x[1]) > 0).map(lambda x: ((x[0]), x[1]))\n",
    "result = filtered.reduceByKey(lambda x, y: (float(x) + float(y)))\n",
    "result1 = result.map(lambda x: ((x[0]), x[1]))\n",
    "final_result = result1.sortBy((lambda x: x[1]), False)\n",
    "top = final_result.take(10)\n",
    "data = sc.parallelize(top)\n",
    "data.saveAsTextFile(\"task4c.out\")"
   ]
  },
  {
   "cell_type": "code",
   "execution_count": null,
   "metadata": {},
   "outputs": [],
   "source": []
  }
 ],
 "metadata": {
  "kernelspec": {
   "display_name": "Python 3",
   "language": "python",
   "name": "python3"
  },
  "language_info": {
   "codemirror_mode": {
    "name": "ipython",
    "version": 3
   },
   "file_extension": ".py",
   "mimetype": "text/x-python",
   "name": "python",
   "nbconvert_exporter": "python",
   "pygments_lexer": "ipython3",
   "version": "3.7.5"
  }
 },
 "nbformat": 4,
 "nbformat_minor": 4
}
